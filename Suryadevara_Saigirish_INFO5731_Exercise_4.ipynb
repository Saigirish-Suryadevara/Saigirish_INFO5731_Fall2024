{
  "cells": [
    {
      "cell_type": "markdown",
      "metadata": {
        "id": "view-in-github",
        "colab_type": "text"
      },
      "source": [
        "<a href=\"https://colab.research.google.com/github/Saigirish-Suryadevara/Saigirish_INFO5731_Fall2024/blob/main/Suryadevara_Saigirish_INFO5731_Exercise_4.ipynb\" target=\"_parent\"><img src=\"https://colab.research.google.com/assets/colab-badge.svg\" alt=\"Open In Colab\"/></a>"
      ]
    },
    {
      "cell_type": "markdown",
      "metadata": {
        "id": "VdRwkJBn70nX"
      },
      "source": [
        "# **INFO5731 In-class Exercise 4**\n",
        "\n",
        "**This exercise will provide a valuable learning experience in working with text data and extracting features using various topic modeling algorithms. Key concepts such as Latent Dirichlet Allocation (LDA), Latent Semantic Analysis (LSA), lda2vec, and BERTopic.**"
      ]
    },
    {
      "cell_type": "markdown",
      "source": [
        "***Please use the text corpus you collected in your last in-class-exercise for this exercise. Perform the following tasks***.\n",
        "\n",
        "**Expectations**:\n",
        "*   Students are expected to complete the exercise during lecture period to meet the active participation criteria of the course.\n",
        "*   Use the provided .*ipynb* document to write your code & respond to the questions. Avoid generating a new file.\n",
        "*   Write complete answers and run all the cells before submission.\n",
        "*   Make sure the submission is \"clean\"; *i.e.*, no unnecessary code cells.\n",
        "*   Once finished, allow shared rights from top right corner (*see Canvas for details*).\n",
        "\n",
        "**Total points**: 40\n",
        "\n",
        "**Deadline**: This in-class exercise is due at the end of the day tomorrow, at 11:59 PM.\n",
        "\n",
        "**Late submissions will have a penalty of 10% of the marks for each day of late submission, and no requests will be answered. Manage your time accordingly.**\n"
      ],
      "metadata": {
        "id": "TU-pLW33lpcS"
      }
    },
    {
      "cell_type": "markdown",
      "metadata": {
        "id": "ARqm7u6B70ne"
      },
      "source": [
        "## Question 1 (10 Points)\n",
        "\n",
        "**Generate K topics by using LDA, the number of topics K should be decided by the coherence score, then summarize what are the topics.**\n",
        "\n",
        "You may refer the code here: https://www.machinelearningplus.com/nlp/topic-modeling-gensim-python/"
      ]
    },
    {
      "cell_type": "code",
      "execution_count": null,
      "metadata": {
        "id": "VAZj4PHB70nf",
        "colab": {
          "base_uri": "https://localhost:8080/"
        },
        "outputId": "beab2e54-0842-404c-c613-f65c50ccc2ab"
      },
      "outputs": [
        {
          "output_type": "stream",
          "name": "stderr",
          "text": [
            "[nltk_data] Downloading package stopwords to /root/nltk_data...\n",
            "[nltk_data]   Package stopwords is already up-to-date!\n",
            "[nltk_data] Downloading package wordnet to /root/nltk_data...\n",
            "[nltk_data]   Package wordnet is already up-to-date!\n",
            "[nltk_data] Downloading package punkt to /root/nltk_data...\n",
            "[nltk_data]   Package punkt is already up-to-date!\n"
          ]
        },
        {
          "output_type": "stream",
          "name": "stdout",
          "text": [
            "Topic #1:['0.033*\"got\" + 0.028*\"one\" + 0.023*\"game\" + 0.018*\"great\" + 0.013*\"good\"']\n",
            "Topic #2:['0.050*\"console\" + 0.024*\"would\" + 0.024*\"game\" + 0.013*\"amazing\" + 0.013*\"buy\"']\n"
          ]
        }
      ],
      "source": [
        "# Write your code here\n",
        "from gensim import corpora\n",
        "from gensim.models import CoherenceModel,LdaModel\n",
        "from nltk.corpus import stopwords\n",
        "from nltk.tokenize import word_tokenize\n",
        "from nltk.stem import WordNetLemmatizer\n",
        "import nltk\n",
        "\n",
        "# downloading necessary nltk data\n",
        "nltk.download('stopwords')\n",
        "nltk.download('wordnet')\n",
        "nltk.download('punkt')\n",
        "\n",
        "# Sample text dataset\n",
        "dataset = [\"This console is spectacular! Worth every penny.\",\n",
        "           \"The console feels premium and amazing.\",\n",
        "           \"The controller build feels worse.\",\n",
        "           \"The console does not perform up to the mark, yet good for the price.\",\n",
        "           \"This console is worse! Bad in this generation of consoles.\",\n",
        "           \"The Blackops game on this console is amazing.\",\n",
        "           \"The palystation doesnt have any subscription like xbox which is frustrating.\",\n",
        "           \"I would not suggest this console to anyone.\",\n",
        "           \"If you would want to by this console, i would suggest wait till black friday sales.\",\n",
        "           \"I’ve been seeing these handheld console things with supposedly hundred of game on them advertised all over TikTok and they look really cool, but I want to make sure that if I buy one it won’t be a hunk of junk or just a flat out scam. So if anyone knows anything about them I’d appreciate your input. Thanks.\",\n",
        "          \"yes but i would buy it from ambernic directly it comes with games either way (and you can add more) plus you have a lower chance of getting scammed\",\n",
        "          \"I just got an RG353v & absolutely Love it!!! Been playing RE3 for Dreamcast & it runs great! Not all N64 & Dreamcast run great, but there are workarounds!\",\n",
        "           \"Just grabbed mine from a new customer deal on TikTok (yes I know) for £12.50. I have had one before but sold it and regretted it. These are great for work breaks and weekends away.\",\n",
        "           \"That's the model I have for my son, I got it from Amazon with preloaded SD card full of games. No issues so far.\",\n",
        "           \"I've heard good things about the abernics. They come in a huge variety of shapes and specs so check out the other devices they offer.\",\n",
        "           \"They're good. I've had two. Only pet peeve us the pokemo games are glitchy. You get to a certain area and you can't proceed any further.\",\n",
        "           \"I've had one for a few months now and I play all kinds of pokemon games including romhacks and I haven't had any issues like that. you can check out r/RG35XX for more info about them but everyone there is helpful and there are a few different CFW options available (I run Batocera). I'd try to find a RG35XX+ if you can. they support wifi and bluetooth\",\n",
        "           \"You gotta be careful where you buy them. I was stupid and ordered one off facebook and got one of those piece of shit things with a bunch of weird knockoff NES games with weird names. Motherfuckers.\",\n",
        "           \"i got this exact one from tik tok shop and it was amazing.\",\n",
        "           \"I got one from temu for about 30 bucks, the SP model. I’m not unhappy with it, but it does feel a little cheap. It works and the card provided has tons of games.\"]\n",
        "\n",
        "# preprocessing dataset\n",
        "text_stop_words = set(stopwords.words('english'))\n",
        "lemmatizer = WordNetLemmatizer()\n",
        "\n",
        "text_lemmatized = []\n",
        "for text in dataset:\n",
        "  tokens = word_tokenize(text.lower())\n",
        "  tokens = [lemmatizer.lemmatize(w) for w in tokens if w.isalpha() and w not in text_stop_words]\n",
        "  text_lemmatized.append(tokens)\n",
        "\n",
        "# initaiting dictionary & corpus\n",
        "id_2_word = corpora.Dictionary(text_lemmatized)\n",
        "corpus = [id_2_word.doc2bow(t) for t in text_lemmatized]\n",
        "\n",
        "# defining fucntion to calculate coherence scores\n",
        "def calculate_coherence_scores(dictionary, corpus, texts, limit, start=2, step=1):\n",
        "  coherence_scores = []\n",
        "  list_model = []\n",
        "  for k in range(start,limit,step):\n",
        "    lda_model = LdaModel(corpus= corpus, id2word= dictionary, num_topics= k, random_state=100, passes= 10 )\n",
        "    list_model.append(lda_model)\n",
        "    coherence_model = CoherenceModel(model= lda_model, texts= texts, dictionary= dictionary, coherence='c_v')\n",
        "    coherence_scores.append(coherence_model.get_coherence())\n",
        "  return list_model,coherence_scores\n",
        "\n",
        "# setting up range values and getting best model\n",
        "limit = 6; start =2; step = 1\n",
        "list_model, coherence_scores = calculate_coherence_scores(id_2_word, corpus, text_lemmatized, limit, start, step)\n",
        "\n",
        "\n",
        "best_model = list_model[coherence_scores.index(max(coherence_scores))]\n",
        "topics = best_model.print_topics(num_words= 5)\n",
        "for i,topic in topics:\n",
        "  print(f\"Topic #{i+1}:{[topic]}\")\n",
        "\n",
        "\n",
        "\n"
      ]
    },
    {
      "cell_type": "markdown",
      "metadata": {
        "id": "dEUjBE6C70nf"
      },
      "source": [
        "## Question 2 (10 Points)\n",
        "\n",
        "**Generate K topics by using LSA, the number of topics K should be decided by the coherence score, then summarize what are the topics.**\n",
        "\n",
        "You may refer the code here: https://www.datacamp.com/community/tutorials/discovering-hidden-topics-python"
      ]
    },
    {
      "cell_type": "code",
      "source": [
        "!!pip install -U scikit-learn"
      ],
      "metadata": {
        "colab": {
          "base_uri": "https://localhost:8080/"
        },
        "id": "LEms6sEuk7xy",
        "outputId": "db2e4a46-08eb-4b43-f524-4e670d92d2db"
      },
      "execution_count": null,
      "outputs": [
        {
          "output_type": "execute_result",
          "data": {
            "text/plain": [
              "['Requirement already satisfied: scikit-learn in /usr/local/lib/python3.10/dist-packages (1.5.2)',\n",
              " 'Requirement already satisfied: numpy>=1.19.5 in /usr/local/lib/python3.10/dist-packages (from scikit-learn) (1.26.4)',\n",
              " 'Requirement already satisfied: scipy>=1.6.0 in /usr/local/lib/python3.10/dist-packages (from scikit-learn) (1.13.1)',\n",
              " 'Requirement already satisfied: joblib>=1.2.0 in /usr/local/lib/python3.10/dist-packages (from scikit-learn) (1.4.2)',\n",
              " 'Requirement already satisfied: threadpoolctl>=3.1.0 in /usr/local/lib/python3.10/dist-packages (from scikit-learn) (3.5.0)']"
            ]
          },
          "metadata": {},
          "execution_count": 15
        }
      ]
    },
    {
      "cell_type": "code",
      "source": [
        "from sklearn.feature_extraction.text import TfidfVectorizer\n",
        "from sklearn.decomposition import TruncatedSVD\n",
        "from gensim import corpora\n",
        "from gensim.models import CoherenceModel\n",
        "from nltk.corpus import stopwords\n",
        "from nltk.tokenize import word_tokenize\n",
        "from nltk.stem import WordNetLemmatizer\n",
        "import nltk\n",
        "\n",
        "# Downloading necessary nltk data\n",
        "nltk.download('stopwords')\n",
        "nltk.download('wordnet')\n",
        "nltk.download('punkt')\n",
        "\n",
        "# Sample text dataset\n",
        "dataset = [\"This console is spectacular! Worth every penny.\",\n",
        "           \"The console feels premium and amazing.\",\n",
        "           \"The controller build feels worse.\",\n",
        "           \"The console does not perform up to the mark, yet good for the price.\",\n",
        "           \"This console is worse! Bad in this generation of consoles.\",\n",
        "           \"The Blackops game on this console is amazing.\",\n",
        "           \"The palystation doesnt have any subscription like xbox which is frustrating.\",\n",
        "           \"I would not suggest this console to anyone.\",\n",
        "           \"If you would want to by this console, i would suggest wait till black friday sales.\",\n",
        "           \"I’ve been seeing these handheld console things with supposedly hundred of game on them advertised all over TikTok and they look really cool, but I want to make sure that if I buy one it won’t be a hunk of junk or just a flat out scam. So if anyone knows anything about them I’d appreciate your input. Thanks.\",\n",
        "          \"yes but i would buy it from ambernic directly it comes with games either way (and you can add more) plus you have a lower chance of getting scammed\",\n",
        "          \"I just got an RG353v & absolutely Love it!!! Been playing RE3 for Dreamcast & it runs great! Not all N64 & Dreamcast run great, but there are workarounds!\",\n",
        "           \"Just grabbed mine from a new customer deal on TikTok (yes I know) for £12.50. I have had one before but sold it and regretted it. These are great for work breaks and weekends away.\",\n",
        "           \"That's the model I have for my son, I got it from Amazon with preloaded SD card full of games. No issues so far.\",\n",
        "           \"I've heard good things about the abernics. They come in a huge variety of shapes and specs so check out the other devices they offer.\",\n",
        "           \"They're good. I've had two. Only pet peeve us the pokemo games are glitchy. You get to a certain area and you can't proceed any further.\",\n",
        "           \"I've had one for a few months now and I play all kinds of pokemon games including romhacks and I haven't had any issues like that. you can check out r/RG35XX for more info about them but everyone there is helpful and there are a few different CFW options available (I run Batocera). I'd try to find a RG35XX+ if you can. they support wifi and bluetooth\",\n",
        "           \"You gotta be careful where you buy them. I was stupid and ordered one off facebook and got one of those piece of shit things with a bunch of weird knockoff NES games with weird names. Motherfuckers.\",\n",
        "           \"i got this exact one from tik tok shop and it was amazing.\",\n",
        "           \"I got one from temu for about 30 bucks, the SP model. I’m not unhappy with it, but it does feel a little cheap. It works and the card provided has tons of games.\"]\n",
        "\n",
        "# Preprocessing dataset\n",
        "text_stop_words = set(stopwords.words('english'))\n",
        "lemmatizer = WordNetLemmatizer()\n",
        "\n",
        "text_lemmatized = []\n",
        "for text in dataset:\n",
        "    tokens = word_tokenize(text.lower())\n",
        "    tokens = [lemmatizer.lemmatize(w) for w in tokens if w.isalpha() and w not in text_stop_words]\n",
        "    text_lemmatized.append(tokens)\n",
        "\n",
        "# Rejoining tokens for vectorization\n",
        "text_lemmatized_joined = [\" \".join(t) for t in text_lemmatized]\n",
        "\n",
        "# Initiating dictionary for coherence calculation\n",
        "dic = corpora.Dictionary(text_lemmatized)\n",
        "\n",
        "# Defining function to calculate coherence scores\n",
        "def calculate_coherence_scores(dictionary, vectorizer, texts, limit, start=2, step=1):\n",
        "    coherence_scores = []\n",
        "    list_model = []\n",
        "\n",
        "    for k in range(start, limit, step):\n",
        "        # Fit the model\n",
        "        matrix_tfidf = vectorizer.fit_transform(texts)\n",
        "        model_lsa = TruncatedSVD(n_components=k, random_state=100)\n",
        "        model_lsa.fit(matrix_tfidf)\n",
        "\n",
        "        # Getting topics\n",
        "        topics = []\n",
        "        terms = vectorizer.get_feature_names_out()\n",
        "        for comp in model_lsa.components_:\n",
        "            topic_terms = [terms[i] for i in comp.argsort()[-5:]]  # 5 best words per topic\n",
        "            topics.append(topic_terms)\n",
        "\n",
        "        # Using coherence model for calculating coherence value\n",
        "        model_coherence = CoherenceModel(topics=topics, texts=text_lemmatized, dictionary=dic, coherence='c_v')\n",
        "        coherence_scores.append(model_coherence.get_coherence())\n",
        "        list_model.append(model_lsa)\n",
        "\n",
        "    return list_model, coherence_scores\n",
        "\n",
        "# Setting range for topics and getting best models\n",
        "vectorizer = TfidfVectorizer()\n",
        "limit = 6\n",
        "start = 2\n",
        "step = 1\n",
        "list_model, coherence_scores = calculate_coherence_scores(dic, vectorizer, text_lemmatized_joined, limit, start, step)\n",
        "\n",
        "# Selecting model with highest coherence value\n",
        "best_k = start + coherence_scores.index(max(coherence_scores))\n",
        "best_model = list_model[coherence_scores.index(max(coherence_scores))]\n",
        "\n",
        "# Displaying topics of the best model\n",
        "print(f\"Best number of topics: {best_k}\")\n",
        "terms = vectorizer.get_feature_names_out()\n",
        "for indx, comp in enumerate(best_model.components_):\n",
        "    topic_terms = [terms[i] for i in comp.argsort()[-5:]]  # Top 5 terms\n",
        "    print(f\"Topic #{indx + 1}: {[', '.join(topic_terms)]}\")\n",
        "\n",
        "\n"
      ],
      "metadata": {
        "colab": {
          "base_uri": "https://localhost:8080/"
        },
        "id": "-FSSDmOSo5rN",
        "outputId": "29f8c103-5fe3-4fb1-ba07-5c9f70acab0e"
      },
      "execution_count": null,
      "outputs": [
        {
          "output_type": "stream",
          "name": "stdout",
          "text": [
            "Best number of topics: 4\n",
            "Topic #1: ['suggest, feel, would, amazing, console']\n",
            "Topic #2: ['model, amazing, game, one, got']\n",
            "Topic #3: ['buy, one, anyone, suggest, would']\n",
            "Topic #4: ['yet, price, perform, mark, good']\n"
          ]
        },
        {
          "output_type": "stream",
          "name": "stderr",
          "text": [
            "[nltk_data] Downloading package stopwords to /root/nltk_data...\n",
            "[nltk_data]   Package stopwords is already up-to-date!\n",
            "[nltk_data] Downloading package wordnet to /root/nltk_data...\n",
            "[nltk_data]   Package wordnet is already up-to-date!\n",
            "[nltk_data] Downloading package punkt to /root/nltk_data...\n",
            "[nltk_data]   Package punkt is already up-to-date!\n"
          ]
        }
      ]
    },
    {
      "cell_type": "markdown",
      "metadata": {
        "id": "7oSK4soH70nf"
      },
      "source": [
        "## Question 3 (10 points):\n",
        "**Generate K topics by using lda2vec, the number of topics K should be decided by the coherence score, then summarize what are the topics.**\n",
        "\n",
        "You may refer the code here: https://nbviewer.org/github/cemoody/lda2vec/blob/master/examples/twenty_newsgroups/lda2vec/lda2vec.ipynb"
      ]
    },
    {
      "cell_type": "code",
      "execution_count": null,
      "metadata": {
        "id": "2CRuXfV570ng"
      },
      "outputs": [],
      "source": [
        "# Write your code here\n",
        "\n"
      ]
    },
    {
      "cell_type": "markdown",
      "metadata": {
        "id": "7nZGAOwl70ng"
      },
      "source": [
        "## Question 4 (10 points):\n",
        "**Generate K topics by using BERTopic, the number of topics K should be decided by the coherence score, then summarize what are the topics.**\n",
        "\n",
        "You may refer the code here: https://colab.research.google.com/drive/1FieRA9fLdkQEGDIMYl0I3MCjSUKVF8C-?usp=sharing"
      ]
    },
    {
      "cell_type": "code",
      "source": [
        "!! pip install bertopic"
      ],
      "metadata": {
        "colab": {
          "base_uri": "https://localhost:8080/"
        },
        "collapsed": true,
        "id": "HIbfd5eAMsHZ",
        "outputId": "1b4c5553-2484-4cc0-8534-7a75c73f4d1c"
      },
      "execution_count": null,
      "outputs": [
        {
          "output_type": "execute_result",
          "data": {
            "text/plain": [
              "['Collecting bertopic',\n",
              " '  Downloading bertopic-0.16.4-py3-none-any.whl.metadata (23 kB)',\n",
              " 'Collecting hdbscan>=0.8.29 (from bertopic)',\n",
              " '  Downloading hdbscan-0.8.39-cp310-cp310-manylinux_2_17_x86_64.manylinux2014_x86_64.whl.metadata (15 kB)',\n",
              " 'Requirement already satisfied: numpy>=1.20.0 in /usr/local/lib/python3.10/dist-packages (from bertopic) (1.26.4)',\n",
              " 'Requirement already satisfied: pandas>=1.1.5 in /usr/local/lib/python3.10/dist-packages (from bertopic) (2.2.2)',\n",
              " 'Requirement already satisfied: plotly>=4.7.0 in /usr/local/lib/python3.10/dist-packages (from bertopic) (5.24.1)',\n",
              " 'Requirement already satisfied: scikit-learn>=0.22.2.post1 in /usr/local/lib/python3.10/dist-packages (from bertopic) (1.5.2)',\n",
              " 'Requirement already satisfied: sentence-transformers>=0.4.1 in /usr/local/lib/python3.10/dist-packages (from bertopic) (3.2.1)',\n",
              " 'Requirement already satisfied: tqdm>=4.41.1 in /usr/local/lib/python3.10/dist-packages (from bertopic) (4.66.6)',\n",
              " 'Collecting umap-learn>=0.5.0 (from bertopic)',\n",
              " '  Downloading umap_learn-0.5.7-py3-none-any.whl.metadata (21 kB)',\n",
              " 'Requirement already satisfied: scipy>=1.0 in /usr/local/lib/python3.10/dist-packages (from hdbscan>=0.8.29->bertopic) (1.13.1)',\n",
              " 'Requirement already satisfied: joblib>=1.0 in /usr/local/lib/python3.10/dist-packages (from hdbscan>=0.8.29->bertopic) (1.4.2)',\n",
              " 'Requirement already satisfied: python-dateutil>=2.8.2 in /usr/local/lib/python3.10/dist-packages (from pandas>=1.1.5->bertopic) (2.8.2)',\n",
              " 'Requirement already satisfied: pytz>=2020.1 in /usr/local/lib/python3.10/dist-packages (from pandas>=1.1.5->bertopic) (2024.2)',\n",
              " 'Requirement already satisfied: tzdata>=2022.7 in /usr/local/lib/python3.10/dist-packages (from pandas>=1.1.5->bertopic) (2024.2)',\n",
              " 'Requirement already satisfied: tenacity>=6.2.0 in /usr/local/lib/python3.10/dist-packages (from plotly>=4.7.0->bertopic) (9.0.0)',\n",
              " 'Requirement already satisfied: packaging in /usr/local/lib/python3.10/dist-packages (from plotly>=4.7.0->bertopic) (24.1)',\n",
              " 'Requirement already satisfied: threadpoolctl>=3.1.0 in /usr/local/lib/python3.10/dist-packages (from scikit-learn>=0.22.2.post1->bertopic) (3.5.0)',\n",
              " 'Requirement already satisfied: transformers<5.0.0,>=4.41.0 in /usr/local/lib/python3.10/dist-packages (from sentence-transformers>=0.4.1->bertopic) (4.44.2)',\n",
              " 'Requirement already satisfied: torch>=1.11.0 in /usr/local/lib/python3.10/dist-packages (from sentence-transformers>=0.4.1->bertopic) (2.5.0+cu121)',\n",
              " 'Requirement already satisfied: huggingface-hub>=0.20.0 in /usr/local/lib/python3.10/dist-packages (from sentence-transformers>=0.4.1->bertopic) (0.24.7)',\n",
              " 'Requirement already satisfied: Pillow in /usr/local/lib/python3.10/dist-packages (from sentence-transformers>=0.4.1->bertopic) (10.4.0)',\n",
              " 'Requirement already satisfied: numba>=0.51.2 in /usr/local/lib/python3.10/dist-packages (from umap-learn>=0.5.0->bertopic) (0.60.0)',\n",
              " 'Collecting pynndescent>=0.5 (from umap-learn>=0.5.0->bertopic)',\n",
              " '  Downloading pynndescent-0.5.13-py3-none-any.whl.metadata (6.8 kB)',\n",
              " 'Requirement already satisfied: filelock in /usr/local/lib/python3.10/dist-packages (from huggingface-hub>=0.20.0->sentence-transformers>=0.4.1->bertopic) (3.16.1)',\n",
              " 'Requirement already satisfied: fsspec>=2023.5.0 in /usr/local/lib/python3.10/dist-packages (from huggingface-hub>=0.20.0->sentence-transformers>=0.4.1->bertopic) (2024.10.0)',\n",
              " 'Requirement already satisfied: pyyaml>=5.1 in /usr/local/lib/python3.10/dist-packages (from huggingface-hub>=0.20.0->sentence-transformers>=0.4.1->bertopic) (6.0.2)',\n",
              " 'Requirement already satisfied: requests in /usr/local/lib/python3.10/dist-packages (from huggingface-hub>=0.20.0->sentence-transformers>=0.4.1->bertopic) (2.32.3)',\n",
              " 'Requirement already satisfied: typing-extensions>=3.7.4.3 in /usr/local/lib/python3.10/dist-packages (from huggingface-hub>=0.20.0->sentence-transformers>=0.4.1->bertopic) (4.12.2)',\n",
              " 'Requirement already satisfied: llvmlite<0.44,>=0.43.0dev0 in /usr/local/lib/python3.10/dist-packages (from numba>=0.51.2->umap-learn>=0.5.0->bertopic) (0.43.0)',\n",
              " 'Requirement already satisfied: six>=1.5 in /usr/local/lib/python3.10/dist-packages (from python-dateutil>=2.8.2->pandas>=1.1.5->bertopic) (1.16.0)',\n",
              " 'Requirement already satisfied: networkx in /usr/local/lib/python3.10/dist-packages (from torch>=1.11.0->sentence-transformers>=0.4.1->bertopic) (3.4.2)',\n",
              " 'Requirement already satisfied: jinja2 in /usr/local/lib/python3.10/dist-packages (from torch>=1.11.0->sentence-transformers>=0.4.1->bertopic) (3.1.4)',\n",
              " 'Requirement already satisfied: sympy==1.13.1 in /usr/local/lib/python3.10/dist-packages (from torch>=1.11.0->sentence-transformers>=0.4.1->bertopic) (1.13.1)',\n",
              " 'Requirement already satisfied: mpmath<1.4,>=1.1.0 in /usr/local/lib/python3.10/dist-packages (from sympy==1.13.1->torch>=1.11.0->sentence-transformers>=0.4.1->bertopic) (1.3.0)',\n",
              " 'Requirement already satisfied: regex!=2019.12.17 in /usr/local/lib/python3.10/dist-packages (from transformers<5.0.0,>=4.41.0->sentence-transformers>=0.4.1->bertopic) (2024.9.11)',\n",
              " 'Requirement already satisfied: safetensors>=0.4.1 in /usr/local/lib/python3.10/dist-packages (from transformers<5.0.0,>=4.41.0->sentence-transformers>=0.4.1->bertopic) (0.4.5)',\n",
              " 'Requirement already satisfied: tokenizers<0.20,>=0.19 in /usr/local/lib/python3.10/dist-packages (from transformers<5.0.0,>=4.41.0->sentence-transformers>=0.4.1->bertopic) (0.19.1)',\n",
              " 'Requirement already satisfied: MarkupSafe>=2.0 in /usr/local/lib/python3.10/dist-packages (from jinja2->torch>=1.11.0->sentence-transformers>=0.4.1->bertopic) (3.0.2)',\n",
              " 'Requirement already satisfied: charset-normalizer<4,>=2 in /usr/local/lib/python3.10/dist-packages (from requests->huggingface-hub>=0.20.0->sentence-transformers>=0.4.1->bertopic) (3.4.0)',\n",
              " 'Requirement already satisfied: idna<4,>=2.5 in /usr/local/lib/python3.10/dist-packages (from requests->huggingface-hub>=0.20.0->sentence-transformers>=0.4.1->bertopic) (3.10)',\n",
              " 'Requirement already satisfied: urllib3<3,>=1.21.1 in /usr/local/lib/python3.10/dist-packages (from requests->huggingface-hub>=0.20.0->sentence-transformers>=0.4.1->bertopic) (2.2.3)',\n",
              " 'Requirement already satisfied: certifi>=2017.4.17 in /usr/local/lib/python3.10/dist-packages (from requests->huggingface-hub>=0.20.0->sentence-transformers>=0.4.1->bertopic) (2024.8.30)',\n",
              " 'Downloading bertopic-0.16.4-py3-none-any.whl (143 kB)',\n",
              " '\\x1b[?25l   \\x1b[90m━━━━━━━━━━━━━━━━━━━━━━━━━━━━━━━━━━━━━━━━\\x1b[0m \\x1b[32m0.0/143.7 kB\\x1b[0m \\x1b[31m?\\x1b[0m eta \\x1b[36m-:--:--\\x1b[0m',\n",
              " '\\x1b[2K   \\x1b[91m━━━━━━━━━━━━━━━━━━━━━━━━━━━━━━━━━━━━━━━\\x1b[0m\\x1b[91m╸\\x1b[0m \\x1b[32m143.4/143.7 kB\\x1b[0m \\x1b[31m89.1 MB/s\\x1b[0m eta \\x1b[36m0:00:01\\x1b[0m',\n",
              " '\\x1b[2K   \\x1b[91m━━━━━━━━━━━━━━━━━━━━━━━━━━━━━━━━━━━━━━━\\x1b[0m\\x1b[91m╸\\x1b[0m \\x1b[32m143.4/143.7 kB\\x1b[0m \\x1b[31m89.1 MB/s\\x1b[0m eta \\x1b[36m0:00:01\\x1b[0m',\n",
              " '\\x1b[2K   \\x1b[90m━━━━━━━━━━━━━━━━━━━━━━━━━━━━━━━━━━━━━━━━\\x1b[0m \\x1b[32m143.7/143.7 kB\\x1b[0m \\x1b[31m1.2 MB/s\\x1b[0m eta \\x1b[36m0:00:00\\x1b[0m',\n",
              " '\\x1b[?25hDownloading hdbscan-0.8.39-cp310-cp310-manylinux_2_17_x86_64.manylinux2014_x86_64.whl (4.2 MB)',\n",
              " '\\x1b[?25l   \\x1b[90m━━━━━━━━━━━━━━━━━━━━━━━━━━━━━━━━━━━━━━━━\\x1b[0m \\x1b[32m0.0/4.2 MB\\x1b[0m \\x1b[31m?\\x1b[0m eta \\x1b[36m-:--:--\\x1b[0m',\n",
              " '\\x1b[2K   \\x1b[91m━━━━━━━\\x1b[0m\\x1b[90m╺\\x1b[0m\\x1b[90m━━━━━━━━━━━━━━━━━━━━━━━━━━━━━━━━\\x1b[0m \\x1b[32m0.8/4.2 MB\\x1b[0m \\x1b[31m25.0 MB/s\\x1b[0m eta \\x1b[36m0:00:01\\x1b[0m',\n",
              " '\\x1b[2K   \\x1b[91m━━━━━━━━━━━━━━━━━━━\\x1b[0m\\x1b[90m╺\\x1b[0m\\x1b[90m━━━━━━━━━━━━━━━━━━━━\\x1b[0m \\x1b[32m2.1/4.2 MB\\x1b[0m \\x1b[31m29.7 MB/s\\x1b[0m eta \\x1b[36m0:00:01\\x1b[0m',\n",
              " '\\x1b[2K   \\x1b[91m━━━━━━━━━━━━━━━━━━━━━━━━━━━━━\\x1b[0m\\x1b[91m╸\\x1b[0m\\x1b[90m━━━━━━━━━━\\x1b[0m \\x1b[32m3.2/4.2 MB\\x1b[0m \\x1b[31m27.9 MB/s\\x1b[0m eta \\x1b[36m0:00:01\\x1b[0m',\n",
              " '\\x1b[2K   \\x1b[91m━━━━━━━━━━━━━━━━━━━━━━━━━━━━━━━━━━━━━━━\\x1b[0m\\x1b[91m╸\\x1b[0m \\x1b[32m4.2/4.2 MB\\x1b[0m \\x1b[31m28.5 MB/s\\x1b[0m eta \\x1b[36m0:00:01\\x1b[0m',\n",
              " '\\x1b[2K   \\x1b[90m━━━━━━━━━━━━━━━━━━━━━━━━━━━━━━━━━━━━━━━━\\x1b[0m \\x1b[32m4.2/4.2 MB\\x1b[0m \\x1b[31m21.1 MB/s\\x1b[0m eta \\x1b[36m0:00:00\\x1b[0m',\n",
              " '\\x1b[?25hDownloading umap_learn-0.5.7-py3-none-any.whl (88 kB)',\n",
              " '\\x1b[?25l   \\x1b[90m━━━━━━━━━━━━━━━━━━━━━━━━━━━━━━━━━━━━━━━━\\x1b[0m \\x1b[32m0.0/88.8 kB\\x1b[0m \\x1b[31m?\\x1b[0m eta \\x1b[36m-:--:--\\x1b[0m',\n",
              " '\\x1b[2K   \\x1b[91m━━━━━━━━━━━━━━━━━━━━━━━━━━━━━━━━━━━━\\x1b[0m\\x1b[91m╸\\x1b[0m\\x1b[90m━━━\\x1b[0m \\x1b[32m81.9/88.8 kB\\x1b[0m \\x1b[31m113.8 MB/s\\x1b[0m eta \\x1b[36m0:00:01\\x1b[0m',\n",
              " '\\x1b[2K   \\x1b[90m━━━━━━━━━━━━━━━━━━━━━━━━━━━━━━━━━━━━━━━━\\x1b[0m \\x1b[32m88.8/88.8 kB\\x1b[0m \\x1b[31m1.7 MB/s\\x1b[0m eta \\x1b[36m0:00:00\\x1b[0m',\n",
              " '\\x1b[?25hDownloading pynndescent-0.5.13-py3-none-any.whl (56 kB)',\n",
              " '\\x1b[?25l   \\x1b[90m━━━━━━━━━━━━━━━━━━━━━━━━━━━━━━━━━━━━━━━━\\x1b[0m \\x1b[32m0.0/56.9 kB\\x1b[0m \\x1b[31m?\\x1b[0m eta \\x1b[36m-:--:--\\x1b[0m',\n",
              " '\\x1b[2K   \\x1b[90m━━━━━━━━━━━━━━━━━━━━━━━━━━━━━━━━━━━━━━━━\\x1b[0m \\x1b[32m56.9/56.9 kB\\x1b[0m \\x1b[31m1.8 MB/s\\x1b[0m eta \\x1b[36m0:00:00\\x1b[0m',\n",
              " '\\x1b[?25hInstalling collected packages: pynndescent, hdbscan, umap-learn, bertopic',\n",
              " 'Successfully installed bertopic-0.16.4 hdbscan-0.8.39 pynndescent-0.5.13 umap-learn-0.5.7']"
            ]
          },
          "metadata": {},
          "execution_count": 1
        }
      ]
    },
    {
      "cell_type": "code",
      "execution_count": null,
      "metadata": {
        "id": "b4HoWK-i70ng",
        "colab": {
          "base_uri": "https://localhost:8080/"
        },
        "outputId": "224d2325-d116-4a20-bda1-815b5cc85b5f"
      },
      "outputs": [
        {
          "output_type": "stream",
          "name": "stderr",
          "text": [
            "[nltk_data] Downloading package stopwords to /root/nltk_data...\n",
            "[nltk_data]   Package stopwords is already up-to-date!\n",
            "[nltk_data] Downloading package wordnet to /root/nltk_data...\n",
            "[nltk_data]   Package wordnet is already up-to-date!\n",
            "[nltk_data] Downloading package punkt to /root/nltk_data...\n",
            "[nltk_data]   Package punkt is already up-to-date!\n"
          ]
        },
        {
          "output_type": "stream",
          "name": "stdout",
          "text": [
            "Topic #-1: [('console', 0.13240216743619174), ('game', 0.1218146940827129), ('one', 0.11069672308628466), ('got', 0.09896660536484266), ('would', 0.0731882125588209), ('feel', 0.05875308385625466), ('good', 0.05875308385625466), ('run', 0.05875308385625466), ('buy', 0.05875308385625466), ('thing', 0.05875308385625466)]\n"
          ]
        }
      ],
      "source": [
        "# Write your code here\n",
        "from bertopic import BERTopic\n",
        "from nltk.corpus import stopwords\n",
        "from nltk.tokenize import word_tokenize\n",
        "from nltk.stem import WordNetLemmatizer\n",
        "from sklearn.decomposition import PCA\n",
        "from umap import UMAP\n",
        "import nltk\n",
        "\n",
        "# downloading necessary nltk data\n",
        "nltk.download('stopwords')\n",
        "nltk.download('wordnet')\n",
        "nltk.download('punkt')\n",
        "\n",
        "# Sample text dataset\n",
        "dataset = [\"This console is spectacular! Worth every penny.\",\n",
        "           \"The console feels premium and amazing.\",\n",
        "           \"The controller build feels worse.\",\n",
        "           \"The console does not perform up to the mark, yet good for the price.\",\n",
        "           \"This console is worse! Bad in this generation of consoles.\",\n",
        "           \"The Blackops game on this console is amazing.\",\n",
        "           \"The palystation doesnt have any subscription like xbox which is frustrating.\",\n",
        "           \"I would not suggest this console to anyone.\",\n",
        "           \"If you would want to by this console, i would suggest wait till black friday sales.\",\n",
        "           \"I’ve been seeing these handheld console things with supposedly hundred of game on them advertised all over TikTok and they look really cool, but I want to make sure that if I buy one it won’t be a hunk of junk or just a flat out scam. So if anyone knows anything about them I’d appreciate your input. Thanks.\",\n",
        "          \"yes but i would buy it from ambernic directly it comes with games either way (and you can add more) plus you have a lower chance of getting scammed\",\n",
        "          \"I just got an RG353v & absolutely Love it!!! Been playing RE3 for Dreamcast & it runs great! Not all N64 & Dreamcast run great, but there are workarounds!\",\n",
        "           \"Just grabbed mine from a new customer deal on TikTok (yes I know) for £12.50. I have had one before but sold it and regretted it. These are great for work breaks and weekends away.\",\n",
        "           \"That's the model I have for my son, I got it from Amazon with preloaded SD card full of games. No issues so far.\",\n",
        "           \"I've heard good things about the abernics. They come in a huge variety of shapes and specs so check out the other devices they offer.\",\n",
        "           \"They're good. I've had two. Only pet peeve us the pokemo games are glitchy. You get to a certain area and you can't proceed any further.\",\n",
        "           \"I've had one for a few months now and I play all kinds of pokemon games including romhacks and I haven't had any issues like that. you can check out r/RG35XX for more info about them but everyone there is helpful and there are a few different CFW options available (I run Batocera). I'd try to find a RG35XX+ if you can. they support wifi and bluetooth\",\n",
        "           \"You gotta be careful where you buy them. I was stupid and ordered one off facebook and got one of those piece of shit things with a bunch of weird knockoff NES games with weird names. Motherfuckers.\",\n",
        "           \"i got this exact one from tik tok shop and it was amazing.\",\n",
        "           \"I got one from temu for about 30 bucks, the SP model. I’m not unhappy with it, but it does feel a little cheap. It works and the card provided has tons of games.\"]\n",
        "\n",
        "# preprocessing dataset\n",
        "text_stop_words = set(stopwords.words('english'))\n",
        "lemmatizer = WordNetLemmatizer()\n",
        "\n",
        "text_lemmatized = []\n",
        "for text in dataset:\n",
        "  tokens = word_tokenize(text.lower())\n",
        "  tokens = [lemmatizer.lemmatize(w) for w in tokens if w.isalpha() and w not in text_stop_words]\n",
        "  text_lemmatized.append(\" \".join(tokens))\n",
        "\n",
        "# BERTopic model\n",
        "model_topic = BERTopic()\n",
        "topics, _ = model_topic.fit_transform(text_lemmatized)\n",
        "\n",
        "for num_topic in set(topics):\n",
        "  print(f\"Topic #{num_topic}: {model_topic.get_topic(num_topic)}\")\n",
        "\n",
        "\n",
        "\n",
        "\n",
        "\n",
        "\n",
        "\n"
      ]
    },
    {
      "cell_type": "markdown",
      "source": [
        "## **Question 3 (Alternative) - (10 points)**\n",
        "\n",
        "If you are unable to do the topic modeling using lda2vec, do the alternate question.\n",
        "\n",
        "Provide atleast 3 visualization for the topics generated by the BERTopic or LDA model. Explain each of the visualization in detail."
      ],
      "metadata": {
        "id": "Wslk2SYHML8t"
      }
    },
    {
      "cell_type": "code",
      "source": [
        "!! pip install pyLDAvis"
      ],
      "metadata": {
        "id": "eKZHcPjpNEDx",
        "colab": {
          "base_uri": "https://localhost:8080/"
        },
        "outputId": "5a90c69d-80d5-445f-96a7-57a37424b772"
      },
      "execution_count": null,
      "outputs": [
        {
          "output_type": "execute_result",
          "data": {
            "text/plain": [
              "['Collecting pyLDAvis',\n",
              " '  Downloading pyLDAvis-3.4.1-py3-none-any.whl.metadata (4.2 kB)',\n",
              " 'Requirement already satisfied: numpy>=1.24.2 in /usr/local/lib/python3.10/dist-packages (from pyLDAvis) (1.26.4)',\n",
              " 'Requirement already satisfied: scipy in /usr/local/lib/python3.10/dist-packages (from pyLDAvis) (1.13.1)',\n",
              " 'Requirement already satisfied: pandas>=2.0.0 in /usr/local/lib/python3.10/dist-packages (from pyLDAvis) (2.2.2)',\n",
              " 'Requirement already satisfied: joblib>=1.2.0 in /usr/local/lib/python3.10/dist-packages (from pyLDAvis) (1.4.2)',\n",
              " 'Requirement already satisfied: jinja2 in /usr/local/lib/python3.10/dist-packages (from pyLDAvis) (3.1.4)',\n",
              " 'Requirement already satisfied: numexpr in /usr/local/lib/python3.10/dist-packages (from pyLDAvis) (2.10.1)',\n",
              " 'Collecting funcy (from pyLDAvis)',\n",
              " '  Downloading funcy-2.0-py2.py3-none-any.whl.metadata (5.9 kB)',\n",
              " 'Requirement already satisfied: scikit-learn>=1.0.0 in /usr/local/lib/python3.10/dist-packages (from pyLDAvis) (1.5.2)',\n",
              " 'Requirement already satisfied: gensim in /usr/local/lib/python3.10/dist-packages (from pyLDAvis) (4.3.3)',\n",
              " 'Requirement already satisfied: setuptools in /usr/local/lib/python3.10/dist-packages (from pyLDAvis) (75.1.0)',\n",
              " 'Requirement already satisfied: python-dateutil>=2.8.2 in /usr/local/lib/python3.10/dist-packages (from pandas>=2.0.0->pyLDAvis) (2.8.2)',\n",
              " 'Requirement already satisfied: pytz>=2020.1 in /usr/local/lib/python3.10/dist-packages (from pandas>=2.0.0->pyLDAvis) (2024.2)',\n",
              " 'Requirement already satisfied: tzdata>=2022.7 in /usr/local/lib/python3.10/dist-packages (from pandas>=2.0.0->pyLDAvis) (2024.2)',\n",
              " 'Requirement already satisfied: threadpoolctl>=3.1.0 in /usr/local/lib/python3.10/dist-packages (from scikit-learn>=1.0.0->pyLDAvis) (3.5.0)',\n",
              " 'Requirement already satisfied: smart-open>=1.8.1 in /usr/local/lib/python3.10/dist-packages (from gensim->pyLDAvis) (7.0.5)',\n",
              " 'Requirement already satisfied: MarkupSafe>=2.0 in /usr/local/lib/python3.10/dist-packages (from jinja2->pyLDAvis) (3.0.2)',\n",
              " 'Requirement already satisfied: six>=1.5 in /usr/local/lib/python3.10/dist-packages (from python-dateutil>=2.8.2->pandas>=2.0.0->pyLDAvis) (1.16.0)',\n",
              " 'Requirement already satisfied: wrapt in /usr/local/lib/python3.10/dist-packages (from smart-open>=1.8.1->gensim->pyLDAvis) (1.16.0)',\n",
              " 'Downloading pyLDAvis-3.4.1-py3-none-any.whl (2.6 MB)',\n",
              " '\\x1b[?25l   \\x1b[90m━━━━━━━━━━━━━━━━━━━━━━━━━━━━━━━━━━━━━━━━\\x1b[0m \\x1b[32m0.0/2.6 MB\\x1b[0m \\x1b[31m?\\x1b[0m eta \\x1b[36m-:--:--\\x1b[0m',\n",
              " '\\x1b[2K   \\x1b[91m━━━━\\x1b[0m\\x1b[90m╺\\x1b[0m\\x1b[90m━━━━━━━━━━━━━━━━━━━━━━━━━━━━━━━━━━━\\x1b[0m \\x1b[32m0.3/2.6 MB\\x1b[0m \\x1b[31m8.6 MB/s\\x1b[0m eta \\x1b[36m0:00:01\\x1b[0m',\n",
              " '\\x1b[2K   \\x1b[91m━━━━━━━━━━━━━━━━━━━━━━━━━━━━━━━━━━━━━━\\x1b[0m\\x1b[91m╸\\x1b[0m\\x1b[90m━\\x1b[0m \\x1b[32m2.5/2.6 MB\\x1b[0m \\x1b[31m36.0 MB/s\\x1b[0m eta \\x1b[36m0:00:01\\x1b[0m',\n",
              " '\\x1b[2K   \\x1b[91m━━━━━━━━━━━━━━━━━━━━━━━━━━━━━━━━━━━━━━━\\x1b[0m\\x1b[91m╸\\x1b[0m \\x1b[32m2.6/2.6 MB\\x1b[0m \\x1b[31m35.6 MB/s\\x1b[0m eta \\x1b[36m0:00:01\\x1b[0m',\n",
              " '\\x1b[2K   \\x1b[90m━━━━━━━━━━━━━━━━━━━━━━━━━━━━━━━━━━━━━━━━\\x1b[0m \\x1b[32m2.6/2.6 MB\\x1b[0m \\x1b[31m22.9 MB/s\\x1b[0m eta \\x1b[36m0:00:00\\x1b[0m',\n",
              " '\\x1b[?25hDownloading funcy-2.0-py2.py3-none-any.whl (30 kB)',\n",
              " 'Installing collected packages: funcy, pyLDAvis',\n",
              " 'Successfully installed funcy-2.0 pyLDAvis-3.4.1']"
            ]
          },
          "metadata": {},
          "execution_count": 33
        }
      ]
    },
    {
      "cell_type": "code",
      "source": [
        "import matplotlib.pyplot as plt\n",
        "import pyLDAvis.gensim_models\n",
        "import pyLDAvis\n",
        "\n",
        "# downloading necessary nltk data\n",
        "nltk.download('stopwords')\n",
        "nltk.download('wordnet')\n",
        "nltk.download('punkt')\n",
        "\n",
        "# Sample text dataset\n",
        "dataset = [\"This console is spectacular! Worth every penny.\",\n",
        "           \"The console feels premium and amazing.\",\n",
        "           \"The controller build feels worse.\",\n",
        "           \"The console does not perform up to the mark, yet good for the price.\",\n",
        "           \"This console is worse! Bad in this generation of consoles.\",\n",
        "           \"The Blackops game on this console is amazing.\",\n",
        "           \"The palystation doesnt have any subscription like xbox which is frustrating.\",\n",
        "           \"I would not suggest this console to anyone.\",\n",
        "           \"If you would want to by this console, i would suggest wait till black friday sales.\",\n",
        "           \"I’ve been seeing these handheld console things with supposedly hundred of game on them advertised all over TikTok and they look really cool, but I want to make sure that if I buy one it won’t be a hunk of junk or just a flat out scam. So if anyone knows anything about them I’d appreciate your input. Thanks.\",\n",
        "          \"yes but i would buy it from ambernic directly it comes with games either way (and you can add more) plus you have a lower chance of getting scammed\",\n",
        "          \"I just got an RG353v & absolutely Love it!!! Been playing RE3 for Dreamcast & it runs great! Not all N64 & Dreamcast run great, but there are workarounds!\",\n",
        "           \"Just grabbed mine from a new customer deal on TikTok (yes I know) for £12.50. I have had one before but sold it and regretted it. These are great for work breaks and weekends away.\",\n",
        "           \"That's the model I have for my son, I got it from Amazon with preloaded SD card full of games. No issues so far.\",\n",
        "           \"I've heard good things about the abernics. They come in a huge variety of shapes and specs so check out the other devices they offer.\",\n",
        "           \"They're good. I've had two. Only pet peeve us the pokemo games are glitchy. You get to a certain area and you can't proceed any further.\",\n",
        "           \"I've had one for a few months now and I play all kinds of pokemon games including romhacks and I haven't had any issues like that. you can check out r/RG35XX for more info about them but everyone there is helpful and there are a few different CFW options available (I run Batocera). I'd try to find a RG35XX+ if you can. they support wifi and bluetooth\",\n",
        "           \"You gotta be careful where you buy them. I was stupid and ordered one off facebook and got one of those piece of shit things with a bunch of weird knockoff NES games with weird names. Motherfuckers.\",\n",
        "           \"i got this exact one from tik tok shop and it was amazing.\",\n",
        "           \"I got one from temu for about 30 bucks, the SP model. I’m not unhappy with it, but it does feel a little cheap. It works and the card provided has tons of games.\"]\n",
        "\n",
        "# preprocessing dataset\n",
        "text_stop_words = set(stopwords.words('english'))\n",
        "lemmatizer = WordNetLemmatizer()\n",
        "\n",
        "text_lemmatized = []\n",
        "for text in dataset:\n",
        "  tokens = word_tokenize(text.lower())\n",
        "  tokens = [lemmatizer.lemmatize(w) for w in tokens if w.isalpha() and w not in text_stop_words]\n",
        "  text_lemmatized.append(tokens)\n",
        "\n",
        "# initaiting dictionary & corpus\n",
        "id_2_word = corpora.Dictionary(text_lemmatized)\n",
        "corpus = [id_2_word.doc2bow(t) for t in text_lemmatized]\n",
        "\n",
        "# defining fucntion to calculate coherence scores\n",
        "def calculate_coherence_scores(dictionary, corpus, texts, limit, start=2, step=1):\n",
        "  coherence_scores = []\n",
        "  list_model = []\n",
        "  for k in range(start,limit,step):\n",
        "    lda_model = LdaModel(corpus= corpus, id2word= dictionary, num_topics= k, random_state=100, passes= 10 )\n",
        "    list_model.append(lda_model)\n",
        "    coherence_model = CoherenceModel(model= lda_model, texts= texts, dictionary= dictionary, coherence='c_v')\n",
        "    coherence_scores.append(coherence_model.get_coherence())\n",
        "  return list_model,coherence_scores\n",
        "\n",
        "# setting up range values and getting best model\n",
        "limit = 6; start =2; step = 1\n",
        "list_model, coherence_scores = calculate_coherence_scores(id_2_word, corpus, text_lemmatized, limit, start, step)\n",
        "\n",
        "\n",
        "best_model = list_model[coherence_scores.index(max(coherence_scores))]\n",
        "topics = best_model.print_topics(num_words= 5)\n",
        "for i,topic in topics:\n",
        "  print(f\"Topic #{i+1}:{[topic]}\")\n",
        "\n",
        "#Coherence scores line plot\n",
        "plt.figure(figsize=(8,4))\n",
        "plt.plot(range(start,limit,step), coherence_scores)\n",
        "plt.title(\"Coherence scores for different topics\")\n",
        "plt.xlabel(\"No. of topics\")\n",
        "plt.ylabel(\"Coherence scores\")\n",
        "plt.xticks(range(start,limit,step))\n",
        "plt.show()"
      ],
      "metadata": {
        "colab": {
          "base_uri": "https://localhost:8080/",
          "height": 556
        },
        "id": "JDt7Bib7eDSJ",
        "outputId": "1c4c89d5-e227-4f08-a279-c70e132cca6a"
      },
      "execution_count": null,
      "outputs": [
        {
          "output_type": "stream",
          "name": "stderr",
          "text": [
            "[nltk_data] Downloading package stopwords to /root/nltk_data...\n",
            "[nltk_data]   Package stopwords is already up-to-date!\n",
            "[nltk_data] Downloading package wordnet to /root/nltk_data...\n",
            "[nltk_data]   Package wordnet is already up-to-date!\n",
            "[nltk_data] Downloading package punkt to /root/nltk_data...\n",
            "[nltk_data]   Package punkt is already up-to-date!\n"
          ]
        },
        {
          "output_type": "stream",
          "name": "stdout",
          "text": [
            "Topic #1:['0.033*\"got\" + 0.028*\"one\" + 0.023*\"game\" + 0.018*\"great\" + 0.013*\"good\"']\n",
            "Topic #2:['0.050*\"console\" + 0.024*\"would\" + 0.024*\"game\" + 0.013*\"amazing\" + 0.013*\"buy\"']\n"
          ]
        },
        {
          "output_type": "display_data",
          "data": {
            "text/plain": [
              "<Figure size 800x400 with 1 Axes>"
            ],
            "image/png": "[encoded data removed]"
          },
          "metadata": {}
        }
      ]
    },
    {
      "cell_type": "markdown",
      "source": [
        "This horizontal bar chart displays the most significant words for each topic generated by the LDA model.\n",
        "Each topic has a unique set of relevant words, and this visualization allows you to quickly see which words dominate each topic,\n",
        "aiding in understanding the content of each topic."
      ],
      "metadata": {
        "id": "KjCAWxeTnURL"
      }
    },
    {
      "cell_type": "code",
      "source": [
        "#Top words for each topic bar graph\n",
        "num_topics = len(topics)\n",
        "for i in range(num_topics):\n",
        "  word =[w for w, _ in best_model.show_topic(i)]\n",
        "  score = [s for _, s in best_model.show_topic(i)]\n",
        "\n",
        "  plt.figure(figsize= (10,5))\n",
        "  plt.barh(word,score, color = \"green\")\n",
        "  plt.xlabel(\"Score of Relevance\")\n",
        "  plt.title(f\"Top words for topic #{i+1}\")\n",
        "  plt.show()\n",
        "\n"
      ],
      "metadata": {
        "colab": {
          "base_uri": "https://localhost:8080/",
          "height": 957
        },
        "id": "iNOiIHVje-Qc",
        "outputId": "775f334c-812b-4c1a-a3c3-94d2b1598938"
      },
      "execution_count": null,
      "outputs": [
        {
          "output_type": "display_data",
          "data": {
            "text/plain": [
              "<Figure size 1000x500 with 1 Axes>"
            ],
            "image/png": "[encoded data removed]"
          },
          "metadata": {}
        },
        {
          "output_type": "display_data",
          "data": {
            "text/plain": [
              "<Figure size 1000x500 with 1 Axes>"
            ],
            "image/png": "[encoded data removed]"
          },
          "metadata": {}
        }
      ]
    },
    {
      "cell_type": "markdown",
      "source": [
        "This is a horizontal bar chart showing the most word xbest LDA on that topic for each topic separately one by one. Focused on this topic with a lot of other important words so it can be said that this graph helps you solve the problem – what else is included in this topic."
      ],
      "metadata": {
        "id": "24PW1QN-m1nx"
      }
    },
    {
      "cell_type": "code",
      "source": [
        "#pyLDAvis Visualisation\n",
        "pyLDAvis.enable_notebook\n",
        "graph = pyLDAvis.gensim_models.prepare(best_model, corpus, id_2_word)\n",
        "pyLDAvis.display(graph)"
      ],
      "metadata": {
        "colab": {
          "base_uri": "https://localhost:8080/",
          "height": 861
        },
        "id": "dE3YYNx0jbR2",
        "outputId": "a344d676-b34f-4952-f2b6-c23f095493ac"
      },
      "execution_count": null,
      "outputs": [
        {
          "output_type": "execute_result",
          "data": {
            "text/plain": [
              "<IPython.core.display.HTML object>"
            ],
            "text/html": [
              "\n",
              "<link rel=\"stylesheet\" type=\"text/css\" href=\"https://cdn.jsdelivr.net/gh/bmabey/pyLDAvis@3.4.0/pyLDAvis/js/ldavis.v1.0.0.css\">\n",
              "\n",
              "\n",
              "<div id=\"ldavis_el5611396416546232809267573686\" style=\"background-color:white;\"></div>\n",
              "<script type=\"text/javascript\">\n",
              "\n",
              "var ldavis_el5611396416546232809267573686_data = {\"mdsDat\": {\"x\": [0.06865721567416026, -0.06865721567416026], \"y\": [0.0, 0.0], \"topics\": [1, 2], \"cluster\": [1, 1], \"Freq\": [52.39350085823967, 47.606499141760324]}, \"tinfo\": {\"Term\": [\"console\", \"got\", \"would\", \"great\", \"want\", \"anyone\", \"worse\", \"suggest\", \"weird\", \"work\", \"dreamcast\", \"card\", \"model\", \"one\", \"support\", \"look\", \"handheld\", \"sure\", \"hunk\", \"make\", \"thanks\", \"available\", \"black\", \"supposedly\", \"scam\", \"play\", \"wait\", \"cfw\", \"sale\", \"friday\", \"got\", \"great\", \"weird\", \"work\", \"dreamcast\", \"card\", \"model\", \"careful\", \"shit\", \"bunch\", \"facebook\", \"knockoff\", \"ordered\", \"name\", \"ta\", \"motherfucker\", \"ne\", \"stupid\", \"piece\", \"provided\", \"buck\", \"unhappy\", \"temu\", \"sp\", \"cheap\", \"ton\", \"little\", \"new\", \"regretted\", \"mine\", \"one\", \"good\", \"thing\", \"run\", \"game\", \"feel\", \"yes\", \"console\", \"would\", \"want\", \"anyone\", \"worse\", \"suggest\", \"support\", \"look\", \"handheld\", \"sure\", \"hunk\", \"make\", \"thanks\", \"available\", \"black\", \"supposedly\", \"scam\", \"play\", \"wait\", \"cfw\", \"sale\", \"friday\", \"advertised\", \"anything\", \"wifi\", \"seeing\", \"input\", \"cool\", \"month\", \"batocera\", \"amazing\", \"buy\", \"game\", \"feel\", \"one\", \"like\", \"issue\", \"check\", \"tiktok\", \"come\", \"know\", \"run\", \"yes\", \"thing\"], \"Freq\": [5.0, 4.0, 2.0, 2.0, 1.0, 1.0, 1.0, 1.0, 1.0, 1.0, 1.0, 1.0, 1.0, 4.0, 1.0, 1.0, 1.0, 1.0, 1.0, 1.0, 1.0, 1.0, 1.0, 1.0, 1.0, 1.0, 1.0, 1.0, 1.0, 1.0, 3.818227470873751, 2.0546177992443835, 1.4697901124855282, 1.4685507360687908, 1.4669643385688669, 1.4667417619636163, 1.4666643346367896, 0.8817566863697979, 0.8817491916633711, 0.8817255752503139, 0.8817143062312981, 0.8817105319187091, 0.881707728143643, 0.8817022823497644, 0.8816868076681493, 0.881684165649337, 0.8816808766055094, 0.8816654558426457, 0.8816618432863105, 0.8812763781334672, 0.8812719028771115, 0.8812680746457713, 0.881240252570115, 0.8812397673013534, 0.8812362625825209, 0.8812270424760533, 0.8811032450231329, 0.8807119566451522, 0.8806714636629469, 0.8806206721992488, 3.2390734386362396, 1.491819265342706, 1.4705189861652226, 1.4675185154944401, 2.6600908680277735, 0.8930949909810237, 0.8819912329378309, 5.295681043900492, 2.5383041134967876, 1.410399967406584, 1.4099761832068927, 1.4090464055720096, 1.4087132572994199, 0.8463197792537142, 0.8463014560987218, 0.8462113100955505, 0.8461978861798608, 0.846189361503474, 0.8461620237481644, 0.8461468361063258, 0.8461309625709847, 0.8461170487313648, 0.8461054865266102, 0.8460848117367524, 0.8460689382014114, 0.8460544364530752, 0.846013674782076, 0.8459957435662278, 0.845990844326925, 0.8459778123503796, 0.8459757546698724, 0.8459723252023604, 0.8459622327693967, 0.8459554718191589, 0.8459402841773203, 0.8459315635313612, 0.8459232348245465, 1.419451410003272, 1.4145153284209264, 2.5307347887739793, 1.402444876581074, 1.409707802877886, 0.86204026235893, 0.8574503610257196, 0.8521564390046983, 0.8511815883682294, 0.8509577911168781, 0.8505324391606099, 0.8508251197165586, 0.8480807618287085, 0.8479438770825887], \"Total\": [5.0, 4.0, 2.0, 2.0, 1.0, 1.0, 1.0, 1.0, 1.0, 1.0, 1.0, 1.0, 1.0, 4.0, 1.0, 1.0, 1.0, 1.0, 1.0, 1.0, 1.0, 1.0, 1.0, 1.0, 1.0, 1.0, 1.0, 1.0, 1.0, 1.0, 4.106756631902925, 2.3416617803751145, 1.7534180010276037, 1.7533685763489242, 1.7533053278520407, 1.7532964315689812, 1.753293325702378, 1.1650468213543392, 1.1650465285296876, 1.1650456445869954, 1.1650451783906421, 1.1650449560265477, 1.1650449448178841, 1.1650447167138631, 1.1650440622311389, 1.1650439433205677, 1.1650438632784832, 1.1650431157373313, 1.1650430796256872, 1.165027629521187, 1.1650275145878108, 1.1650272383049651, 1.1650262395644915, 1.1650262442196604, 1.1650260709835536, 1.165025571523045, 1.1650207276003963, 1.1650052353731362, 1.1650034463814227, 1.165001573822163, 4.648781241514126, 2.319307740503506, 2.3184628632478113, 2.318343635210999, 5.190825656801753, 2.2955398675620975, 1.7300719947665395, 5.6649202921266415, 2.8369844211084194, 1.7068395465122306, 1.706856602022939, 1.7068945311765096, 1.7069084579058575, 1.141772780007962, 1.1417735710502956, 1.141777270633713, 1.1417777847152273, 1.1417782105515517, 1.1417792610187867, 1.1417798985304464, 1.1417806589298727, 1.1417808448437103, 1.1417816030736214, 1.1417824688248968, 1.1417830405086937, 1.14178347425446, 1.141785416234468, 1.141785844353428, 1.1417860404361204, 1.1417868116599006, 1.1417869107294443, 1.1417871207776433, 1.141787434663675, 1.141787710110478, 1.1417885093783917, 1.1417887662045194, 1.1417891992947864, 2.2948363557790077, 2.2950419123992054, 5.190825656801753, 2.2955398675620975, 4.648781241514126, 1.7294945146850769, 1.7296844028146239, 1.7299036731111612, 1.7299440047236412, 1.7299529747215308, 1.7299708349007181, 2.318343635210999, 1.7300719947665395, 2.3184628632478113], \"Category\": [\"Default\", \"Default\", \"Default\", \"Default\", \"Default\", \"Default\", \"Default\", \"Default\", \"Default\", \"Default\", \"Default\", \"Default\", \"Default\", \"Default\", \"Default\", \"Default\", \"Default\", \"Default\", \"Default\", \"Default\", \"Default\", \"Default\", \"Default\", \"Default\", \"Default\", \"Default\", \"Default\", \"Default\", \"Default\", \"Default\", \"Topic1\", \"Topic1\", \"Topic1\", \"Topic1\", \"Topic1\", \"Topic1\", \"Topic1\", \"Topic1\", \"Topic1\", \"Topic1\", \"Topic1\", \"Topic1\", \"Topic1\", \"Topic1\", \"Topic1\", \"Topic1\", \"Topic1\", \"Topic1\", \"Topic1\", \"Topic1\", \"Topic1\", \"Topic1\", \"Topic1\", \"Topic1\", \"Topic1\", \"Topic1\", \"Topic1\", \"Topic1\", \"Topic1\", \"Topic1\", \"Topic1\", \"Topic1\", \"Topic1\", \"Topic1\", \"Topic1\", \"Topic1\", \"Topic1\", \"Topic2\", \"Topic2\", \"Topic2\", \"Topic2\", \"Topic2\", \"Topic2\", \"Topic2\", \"Topic2\", \"Topic2\", \"Topic2\", \"Topic2\", \"Topic2\", \"Topic2\", \"Topic2\", \"Topic2\", \"Topic2\", \"Topic2\", \"Topic2\", \"Topic2\", \"Topic2\", \"Topic2\", \"Topic2\", \"Topic2\", \"Topic2\", \"Topic2\", \"Topic2\", \"Topic2\", \"Topic2\", \"Topic2\", \"Topic2\", \"Topic2\", \"Topic2\", \"Topic2\", \"Topic2\", \"Topic2\", \"Topic2\", \"Topic2\", \"Topic2\", \"Topic2\", \"Topic2\", \"Topic2\", \"Topic2\", \"Topic2\", \"Topic2\"], \"logprob\": [30.0, 29.0, 28.0, 27.0, 26.0, 25.0, 24.0, 23.0, 22.0, 21.0, 20.0, 19.0, 18.0, 17.0, 16.0, 15.0, 14.0, 13.0, 12.0, 11.0, 10.0, 9.0, 8.0, 7.0, 6.0, 5.0, 4.0, 3.0, 2.0, 1.0, -3.412, -4.0317, -4.3667, -4.3675, -4.3686, -4.3687, -4.3688, -4.8776, -4.8776, -4.8776, -4.8777, -4.8777, -4.8777, -4.8777, -4.8777, -4.8777, -4.8777, -4.8777, -4.8777, -4.8782, -4.8782, -4.8782, -4.8782, -4.8782, -4.8782, -4.8782, -4.8784, -4.8788, -4.8788, -4.8789, -3.5765, -4.3518, -4.3662, -4.3682, -3.7734, -4.8648, -4.8773, -2.9891, -3.7245, -4.3121, -4.3124, -4.313, -4.3133, -4.8228, -4.8228, -4.8229, -4.823, -4.823, -4.823, -4.823, -4.823, -4.8231, -4.8231, -4.8231, -4.8231, -4.8231, -4.8232, -4.8232, -4.8232, -4.8232, -4.8232, -4.8232, -4.8232, -4.8233, -4.8233, -4.8233, -4.8233, -4.3057, -4.3092, -3.7275, -4.3177, -4.3126, -4.8044, -4.8098, -4.8159, -4.8171, -4.8174, -4.8179, -4.8175, -4.8207, -4.8209], \"loglift\": [30.0, 29.0, 28.0, 27.0, 26.0, 25.0, 24.0, 23.0, 22.0, 21.0, 20.0, 19.0, 18.0, 17.0, 16.0, 15.0, 14.0, 13.0, 12.0, 11.0, 10.0, 9.0, 8.0, 7.0, 6.0, 5.0, 4.0, 3.0, 2.0, 1.0, 0.5735, 0.5156, 0.4699, 0.4691, 0.4681, 0.4679, 0.4679, 0.3678, 0.3678, 0.3678, 0.3677, 0.3677, 0.3677, 0.3677, 0.3677, 0.3677, 0.3677, 0.3677, 0.3677, 0.3673, 0.3673, 0.3672, 0.3672, 0.3672, 0.3672, 0.3672, 0.3671, 0.3666, 0.3666, 0.3665, 0.2851, 0.2051, 0.1911, 0.1891, -0.0221, -0.2976, -0.0273, 0.6748, 0.631, 0.5514, 0.5511, 0.5504, 0.5502, 0.4428, 0.4427, 0.4426, 0.4426, 0.4426, 0.4426, 0.4426, 0.4425, 0.4425, 0.4425, 0.4425, 0.4425, 0.4424, 0.4424, 0.4424, 0.4424, 0.4423, 0.4423, 0.4423, 0.4423, 0.4423, 0.4423, 0.4423, 0.4423, 0.2618, 0.2582, 0.0238, 0.2494, -0.451, 0.0459, 0.0405, 0.0342, 0.033, 0.0327, 0.0322, -0.2602, 0.0293, -0.2636]}, \"token.table\": {\"Topic\": [2, 1, 2, 2, 2, 2, 2, 2, 1, 1, 1, 2, 1, 1, 2, 1, 1, 2, 1, 2, 2, 2, 1, 1, 1, 2, 2, 1, 2, 1, 2, 1, 1, 2, 2, 2, 1, 2, 1, 1, 2, 1, 2, 1, 2, 2, 1, 1, 2, 1, 1, 1, 1, 1, 2, 1, 1, 2, 1, 1, 1, 2, 2, 2, 2, 1, 1, 1, 2, 2, 2, 2, 1, 1, 2, 1, 2, 1, 2, 1, 1, 2, 2, 1, 2, 1, 2, 2, 1, 2], \"Freq\": [0.8758202405107706, 0.4357609192837364, 0.4357609192837364, 0.585872298126753, 0.8758201645183846, 0.8758249600560271, 0.8758184090527735, 0.8758248174472417, 0.8583488265114512, 0.8583354692120209, 0.43572189013080537, 0.43572189013080537, 0.5703542093592953, 0.8583346022415852, 0.8758213108886371, 0.8583498901065509, 0.5780668690075331, 0.5780668690075331, 0.5780503947865804, 0.5780503947865804, 0.8826249518372258, 0.8758189382589042, 0.57035131537819, 0.858335812677556, 0.43562737207523083, 0.43562737207523083, 0.8758208320869264, 0.5779427394308604, 0.5779427394308604, 0.43116313654129695, 0.43116313654129695, 0.9740046363902849, 0.8540943089055401, 0.8758275591219088, 0.8758268381360477, 0.8758195513448302, 0.5781401499445523, 0.5781401499445523, 0.8583359765021918, 0.578044427007574, 0.578044427007574, 0.5782036262671175, 0.5782036262671175, 0.8583538269398082, 0.8758303969850337, 0.8758260323521029, 0.8583679391257625, 0.5703552197116789, 0.875818741258204, 0.8583367226045009, 0.8583361528136105, 0.8583367815748647, 0.8583652413198923, 0.6453304305243859, 0.21511014350812865, 0.85833598476007, 0.8583373589252052, 0.875823133223694, 0.858348741832834, 0.8583665594347087, 0.43134243984023846, 0.43134243984023846, 0.87582098249456, 0.8758235717432088, 0.8758197626290748, 0.8583348179767725, 0.8583497624723504, 0.8583373323202043, 0.5858544993249742, 0.8758310037773248, 0.8758242358328842, 0.8758271647835675, 0.8583366349981062, 0.8583497659021128, 0.8758255433355173, 0.431320257853582, 0.431320257853582, 0.5780533920574789, 0.5780533920574789, 0.8583502580914973, 0.8583490300663971, 0.8758228005121207, 0.5858781524270444, 0.5703146650792581, 0.8758200033986409, 0.5703307413449378, 0.5858592793725403, 1.0574608650222654, 0.5780106278958308, 0.5780106278958308], \"Term\": [\"advertised\", \"amazing\", \"amazing\", \"anyone\", \"anything\", \"available\", \"batocera\", \"black\", \"buck\", \"bunch\", \"buy\", \"buy\", \"card\", \"careful\", \"cfw\", \"cheap\", \"check\", \"check\", \"come\", \"come\", \"console\", \"cool\", \"dreamcast\", \"facebook\", \"feel\", \"feel\", \"friday\", \"game\", \"game\", \"good\", \"good\", \"got\", \"great\", \"handheld\", \"hunk\", \"input\", \"issue\", \"issue\", \"knockoff\", \"know\", \"know\", \"like\", \"like\", \"little\", \"look\", \"make\", \"mine\", \"model\", \"month\", \"motherfucker\", \"name\", \"ne\", \"new\", \"one\", \"one\", \"ordered\", \"piece\", \"play\", \"provided\", \"regretted\", \"run\", \"run\", \"sale\", \"scam\", \"seeing\", \"shit\", \"sp\", \"stupid\", \"suggest\", \"support\", \"supposedly\", \"sure\", \"ta\", \"temu\", \"thanks\", \"thing\", \"thing\", \"tiktok\", \"tiktok\", \"ton\", \"unhappy\", \"wait\", \"want\", \"weird\", \"wifi\", \"work\", \"worse\", \"would\", \"yes\", \"yes\"]}, \"R\": 30, \"lambda.step\": 0.01, \"plot.opts\": {\"xlab\": \"PC1\", \"ylab\": \"PC2\"}, \"topic.order\": [1, 2]};\n",
              "\n",
              "function LDAvis_load_lib(url, callback){\n",
              "  var s = document.createElement('script');\n",
              "  s.src = url;\n",
              "  s.async = true;\n",
              "  s.onreadystatechange = s.onload = callback;\n",
              "  s.onerror = function(){console.warn(\"failed to load library \" + url);};\n",
              "  document.getElementsByTagName(\"head\")[0].appendChild(s);\n",
              "}\n",
              "\n",
              "if(typeof(LDAvis) !== \"undefined\"){\n",
              "   // already loaded: just create the visualization\n",
              "   !function(LDAvis){\n",
              "       new LDAvis(\"#\" + \"ldavis_el5611396416546232809267573686\", ldavis_el5611396416546232809267573686_data);\n",
              "   }(LDAvis);\n",
              "}else if(typeof define === \"function\" && define.amd){\n",
              "   // require.js is available: use it to load d3/LDAvis\n",
              "   require.config({paths: {d3: \"https://d3js.org/d3.v5\"}});\n",
              "   require([\"d3\"], function(d3){\n",
              "      window.d3 = d3;\n",
              "      LDAvis_load_lib(\"https://cdn.jsdelivr.net/gh/bmabey/pyLDAvis@3.4.0/pyLDAvis/js/ldavis.v3.0.0.js\", function(){\n",
              "        new LDAvis(\"#\" + \"ldavis_el5611396416546232809267573686\", ldavis_el5611396416546232809267573686_data);\n",
              "      });\n",
              "    });\n",
              "}else{\n",
              "    // require.js not available: dynamically load d3 & LDAvis\n",
              "    LDAvis_load_lib(\"https://d3js.org/d3.v5.js\", function(){\n",
              "         LDAvis_load_lib(\"https://cdn.jsdelivr.net/gh/bmabey/pyLDAvis@3.4.0/pyLDAvis/js/ldavis.v3.0.0.js\", function(){\n",
              "                 new LDAvis(\"#\" + \"ldavis_el5611396416546232809267573686\", ldavis_el5611396416546232809267573686_data);\n",
              "            })\n",
              "         });\n",
              "}\n",
              "</script>"
            ]
          },
          "metadata": {},
          "execution_count": 40
        }
      ]
    },
    {
      "cell_type": "markdown",
      "source": [
        "This interactive one adds yet another level of emphasis on the topics, and their distributions and how these topics are related to each other. It shows the packing of topics which assists in determining topical relations. Circles focus on the most relevant characteristics to those themes and therefore improve the topic model in exploring its results."
      ],
      "metadata": {
        "id": "RGdfRCIJnM7w"
      }
    },
    {
      "cell_type": "markdown",
      "source": [
        "## Extra Question (5 Points)\n",
        "\n",
        "**Compare the results generated by the four topic modeling algorithms, which one is better? You should explain the reasons in details.**\n",
        "\n",
        "**This question will compensate for any points deducted in this exercise. Maximum marks for the exercise is 40 points.**"
      ],
      "metadata": {
        "id": "d89ODUx3jjJV"
      }
    },
    {
      "cell_type": "code",
      "source": [
        "# Write your code here\n"
      ],
      "metadata": {
        "id": "OK34nZtojhmm"
      },
      "execution_count": null,
      "outputs": []
    },
    {
      "cell_type": "markdown",
      "source": [
        "# Mandatory Question"
      ],
      "metadata": {
        "id": "VEs-OoDEhTW4"
      }
    },
    {
      "cell_type": "markdown",
      "source": [
        "**Important: Reflective Feedback on this exercise**\n",
        "\n",
        "Please provide your thoughts and feedback on the exercises you completed in this assignment.\n",
        "\n",
        "Consider the following points in your response:\n",
        "\n",
        "**Learning Experience:** Describe your overall learning experience in working with text data and extracting features using various topic modeling algorithms. Did you understand these algorithms and did the implementations helped in grasping the nuances of feature extraction from text data.\n",
        "\n",
        "**Challenges Encountered:** Were there specific difficulties in completing this exercise?\n",
        "\n",
        "Relevance to Your Field of Study: How does this exercise relate to the field of NLP?\n",
        "\n",
        "**(Your submission will not be graded if this question is left unanswered)**\n",
        "\n"
      ],
      "metadata": {
        "id": "IUKC7suYhVl0"
      }
    },
    {
      "cell_type": "code",
      "source": [
        "# Your answer here (no code for this question, write down your answer as detail as possible for the above questions):\n",
        "\n",
        "'''\n",
        "Please write you answer here:\n",
        "\n",
        "Putting text data into practice was exciting as well as topic modeling algorithms, more specifically LDA.\n",
        "That was useful when I was learning how to do feature extraction in text. Of course, I encountered some issues, mostly related to data cleansing or finding\n",
        "the optimal parameters. This exercise is highly applicable to NLP since it demonstrates how we can work with the text, and identify meaningful patterns.\n",
        "In general, I acquired hands-on experience which will be most useful at the time of execution of any data related tasks in the future!\n",
        "\n",
        "\n",
        "\n",
        "\n",
        "\n",
        "'''"
      ],
      "metadata": {
        "id": "CAq0DZWAhU9m"
      },
      "execution_count": null,
      "outputs": []
    }
  ],
  "metadata": {
    "kernelspec": {
      "display_name": "Python 3 (ipykernel)",
      "language": "python",
      "name": "python3"
    },
    "language_info": {
      "codemirror_mode": {
        "name": "ipython",
        "version": 3
      },
      "file_extension": ".py",
      "mimetype": "text/x-python",
      "name": "python",
      "nbconvert_exporter": "python",
      "pygments_lexer": "ipython3",
      "version": "3.9.12"
    },
    "colab": {
      "provenance": [],
      "toc_visible": true,
      "include_colab_link": true
    }
  },
  "nbformat": 4,
  "nbformat_minor": 0
}