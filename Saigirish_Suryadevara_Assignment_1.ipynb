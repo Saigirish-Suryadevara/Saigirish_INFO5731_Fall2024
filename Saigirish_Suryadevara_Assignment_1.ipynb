{
  "cells": [
    {
      "cell_type": "markdown",
      "metadata": {
        "id": "view-in-github",
        "colab_type": "text"
      },
      "source": [
        "<a href=\"https://colab.research.google.com/github/Saigirish-Suryadevara/Saigirish_INFO5731_Fall2024/blob/main/Saigirish_Suryadevara_Assignment_1.ipynb\" target=\"_parent\"><img src=\"https://colab.research.google.com/assets/colab-badge.svg\" alt=\"Open In Colab\"/></a>"
      ]
    },
    {
      "cell_type": "markdown",
      "metadata": {
        "id": "Ryk8D1Q4Wsrp"
      },
      "source": [
        "# **INFO5731 Assignment One**"
      ]
    },
    {
      "cell_type": "markdown",
      "source": [
        "This assignment includes range of programming tasks and data analysis exercises, aiming to enhance your Python skills and proficiency in string manipulation, numerical computations, and data science. Follow the instructions carefully and design well-structured Python programs to address each question.\n",
        "\n",
        "Late Submission will have a penalty of 10% reduction for each day after the deadline."
      ],
      "metadata": {
        "id": "qcP6re2g5A5r"
      }
    },
    {
      "cell_type": "markdown",
      "metadata": {
        "id": "JkzR8cFAyGik"
      },
      "source": [
        "# Question 1 (10 points).\n",
        "\n",
        "The formula that describes the volume V of a hemisphere with radius r is the following:\n",
        "\n",
        "$ V=\\frac{2}{3}\\ast\\ \\pi\\ast\\ r^3 $\n",
        "\n",
        "Write a program to calculate the value of V when r is in the range of even numbers from 1-20. Output the result in the following format:\n",
        "\n",
        "\tr\tV\n",
        "\t2\t…\n",
        "\t4\t…\n",
        "\t6\t…\n",
        "\t.\n",
        "\t.\n",
        "\t.\n",
        "\t20\t…\n"
      ]
    },
    {
      "cell_type": "code",
      "execution_count": null,
      "metadata": {
        "id": "jDyTKYs-yGit",
        "colab": {
          "base_uri": "https://localhost:8080/"
        },
        "outputId": "d9dd4783-1703-4cf9-9cae-2d56f7291935"
      },
      "outputs": [
        {
          "output_type": "stream",
          "name": "stdout",
          "text": [
            "r  v\n",
            "2  16.76\n",
            "4  134.10\n",
            "6  452.57\n",
            "8  1072.76\n",
            "10  2095.24\n",
            "12  3620.57\n",
            "14  5749.33\n",
            "16  8582.10\n",
            "18  12219.43\n",
            "20  16761.90\n"
          ]
        }
      ],
      "source": [
        "# Your code here\n",
        "# Defining value of pi\n",
        "pi = 22/7\n",
        "\n",
        "# Function to find volume of hemisphere\n",
        "def volume_hemisphere (r):\n",
        "  return 2/3*pi*r*r*r\n",
        "\n",
        "# Finding even numbers between 1 , 20 and calcuating volume of hemisphere for even values\n",
        "even_numbers= range(2,21,2)\n",
        "\n",
        "print (\"r  v\")\n",
        "\n",
        "for r in even_numbers:\n",
        "  v = volume_hemisphere(r)\n",
        "  print(f\"{r} {v: .2f}\")\n",
        "\n",
        "\n",
        "\n",
        "\n"
      ]
    },
    {
      "cell_type": "markdown",
      "metadata": {
        "id": "90_NR8c5XGWc"
      },
      "source": [
        "# Question 2 (20 points)\n",
        "\n",
        "(a) Write a Python program to generate a sequence of 12 random numbers falling within the range of 50 to 150.\n",
        "\n",
        "(b) Arrange the generated numbers in ascending order. Display the sorted list.\n",
        "\n",
        "(c) Extend the program to arrange the numbers in descending order as well. Present the sorted list accordingly.\n",
        "\n",
        "(d) Compute and output the average of the entire group of generated numbers.\n",
        "\n",
        "(e) Enhance the program to calculate and display the average of the first 6 numbers from both the ascending and descending sorted lists."
      ]
    },
    {
      "cell_type": "code",
      "execution_count": null,
      "metadata": {
        "id": "5QX6bJjGWXY9",
        "colab": {
          "base_uri": "https://localhost:8080/"
        },
        "outputId": "84488be1-1e5b-4ced-f702-111091792a4d"
      },
      "outputs": [
        {
          "output_type": "stream",
          "name": "stdout",
          "text": [
            "[102, 118, 129, 142, 67, 125, 115, 74, 135, 68, 116, 50]\n",
            "[50, 67, 68, 74, 102, 115, 116, 118, 125, 129, 135, 142]\n",
            "[142, 135, 129, 125, 118, 116, 115, 102, 74, 68, 67, 50]\n",
            "103.41666666666667\n",
            "79.33333333333333\n",
            "127.5\n"
          ]
        }
      ],
      "source": [
        "# Write code for each of the sub parts with proper comments.\n",
        "import random\n",
        "\n",
        "# Generating a sequence of 12 random numbers between 50 and 150\n",
        "number = 12\n",
        "start_num = 50\n",
        "end_num = 150\n",
        "random_sequence = random.sample(range(start_num,end_num+1),number)\n",
        "print(random_sequence)\n",
        "\n",
        "# Sorting generated random sequence in ascending order\n",
        "ascending_order = sorted(random_sequence)\n",
        "print(ascending_order)\n",
        "\n",
        "# Sorting generated random sequence in descending order\n",
        "descending_order = sorted(random_sequence, reverse= True)\n",
        "print(descending_order)\n",
        "\n",
        "# calculating the average of entire sequence of generated numbers\n",
        "average = sum(random_sequence)/len(random_sequence)\n",
        "print(average)\n",
        "\n",
        "# calculating average of first 6 numbers in ascending sequence\n",
        "average_of_first_6_asc = sum(ascending_order[:6])/6\n",
        "print(average_of_first_6_asc)\n",
        "\n",
        "# calculating average of first 6 numbers in ascending sequence\n",
        "average_of_first_6_des = sum(descending_order[:6])/6\n",
        "print(average_of_first_6_des)\n"
      ]
    },
    {
      "cell_type": "markdown",
      "metadata": {
        "id": "1F_PZdH9Sh49"
      },
      "source": [
        "# Question 3 (20 points).\n",
        "\n",
        "Create a Python program that encompasses various string manipulation task:\n",
        "\n",
        "(a) Prompt the user to input two sentences.\n",
        "\n",
        "(b) Transform each sentence into a list, where each element corresponds to a word in the sentence. For example, if the sentences are \"Hello, how are you doing today?\" and \"This is an example sentence for the program!\"\n",
        "\n",
        "The program should output:\n",
        "['Hello', ',', 'how', 'are', 'you', 'doing', 'today', '?', 'This', 'is', 'an', 'example', 'sentence', 'for', 'the', 'program', '!']\n",
        "\n",
        "(c) Compare the two sentences. Print out a list of words that occur in both sentences.\n",
        "\n",
        "(d) Remove any punctuation from the sentence and print the sanitized sentences. It should remove at least the following characters, but it can remove more: period(“.”), comma (“,”), semicolon (“;”), and colon (“:”).\n",
        "\n",
        "(e) Count the number of vowels in each of the sentences. Print out each vowel and the occurrences  in the each of the two sentences separately, such as:\n",
        "\n",
        "Sentence1: a:2, e:2, i:0, etc.\n",
        "Sentence2: a:1, e:2, i:2, etc.\n",
        "\n",
        "Design a well-structured Python program to execute these tasks efficiently."
      ]
    },
    {
      "cell_type": "code",
      "execution_count": 102,
      "metadata": {
        "id": "Y0oOSlsOS0cq",
        "colab": {
          "base_uri": "https://localhost:8080/"
        },
        "outputId": "6f7cabab-b3e2-409e-9dbd-ed0d7d6718b3"
      },
      "outputs": [
        {
          "output_type": "stream",
          "name": "stdout",
          "text": [
            "Enter the first sentence of your choice:hi what's your name ?\n",
            "Enter the second sentence of your choice:hi i am luffy , and you ?\n",
            "['hi', \"what's\", 'your', 'name', '?', 'hi', 'i', 'am', 'luffy', ',', 'and', 'you', '?']\n",
            "Similar words in 2 sentences are {'?', 'hi'}\n",
            "Santitized Sentence 1 is hi whats your name \n",
            "Santitized Sentence 2 is hi i am luffy  and you \n",
            "No. of Vowels in Sentence 1:A:0,E:0,I:0,O:0,U:0,a:2,e:1,i:1,o:1,u:1,No. of Vowels in Sentence 2:\n",
            "A:0,E:0,I:0,O:0,U:0,a:2,e:0,i:2,o:1,u:2,"
          ]
        }
      ],
      "source": [
        "# Your code here\n",
        "import string\n",
        "\n",
        "# Taking inputs form the user for two sentences\n",
        "str1 = (input(\"Enter the first sentence of your choice:\"))\n",
        "str2 = (input(\"Enter the second sentence of your choice:\"))\n",
        "\n",
        "# converting each word in both the sentences to a list\n",
        "\n",
        "lis1= str1.split()\n",
        "lis2= str2.split()\n",
        "\n",
        "list_of_words = lis1+lis2\n",
        "\n",
        "print(list_of_words)\n",
        "\n",
        "# Comparing two sentences and printing similar occurance words\n",
        "\n",
        "set1 = set(lis1)\n",
        "set2 = set(lis2)\n",
        "similar_words = set1.intersection(set2)\n",
        "print(\"Similar words in 2 sentences are\", similar_words)\n",
        "\n",
        "# Removing punctuations form both the sentences\n",
        "\n",
        "def removing_punctuations (stri):\n",
        " return stri.translate(stri.maketrans('', '', string.punctuation))\n",
        "\n",
        "sanitized_str1 = removing_punctuations(str1)\n",
        "sanitized_str2 = removing_punctuations(str2)\n",
        "\n",
        "print(\"Santitized Sentence 1 is\",sanitized_str1)\n",
        "print(\"Santitized Sentence 2 is\",sanitized_str2)\n",
        "\n",
        "# counting number of vowels and occurences in each string separately\n",
        "def vowel_count (str):\n",
        " vowels = \"AEIOUaeiou\"\n",
        " count = {}\n",
        " for char in vowels:\n",
        "  count[char] = str.count(char)\n",
        " return count\n",
        "\n",
        "\n",
        "Vowel_count_str1 = vowel_count(str1)\n",
        "Vowel_count_str2 = vowel_count(str2)\n",
        "\n",
        "print(\"No. of Vowels in Sentence 1:\", end=\"\")\n",
        "for a in Vowel_count_str1:\n",
        " print(a + \":\" + str(Vowel_count_str1[a]), end=\",\")\n",
        "\n",
        "print(\"No. of Vowels in Sentence 2:\")\n",
        "for a in Vowel_count_str1:\n",
        " print(a + \":\" + str(Vowel_count_str2[a]), end=\",\")\n",
        "\n",
        "\n",
        "\n",
        "\n",
        "\n"
      ]
    },
    {
      "cell_type": "markdown",
      "source": [
        "# Question 4 (20 Points)"
      ],
      "metadata": {
        "id": "OP4-5qxAtInv"
      }
    },
    {
      "cell_type": "markdown",
      "source": [
        "Design and implement a simple command-line calculator program. The program should handle both integers and floating-point numbers.\n",
        "\n",
        "(a) Write program that takes a mathematical expression as input and evaluates it. The program should support addition, subtraction, multiplication, and division.\n",
        "\n",
        "(b) Extend the calculator to handle parentheses in mathematical expressions. Implement the necessary logic to evaluate expressions with nested parentheses.\n",
        "\n",
        "(c) Enhance your calculator to include additional mathematical operations such as exponentiation, square root, and modulus.\n",
        "\n",
        "(d) Implement error handling in the calculator program. Handle cases such as division by zero and invalid input expressions. Provide meaningful error messages.\n",
        "\n",
        "(e) Implement a command to exit the calculator."
      ],
      "metadata": {
        "id": "uzN4_hDptK9U"
      }
    },
    {
      "cell_type": "code",
      "source": [
        "# Your code here\n",
        "import math\n",
        "\n",
        "def eval_exp(exp):\n",
        "  try:\n",
        "    exp = exp.replace(\"sqrt\",\"math.sqrt\")\n",
        "    result = eval(exp, {\"__builtins__\": None}, {\"math\": math})\n",
        "    return result\n",
        "  except ZeroDivisionError:\n",
        "    return \"Divison by zero is not possible\"\n",
        "  except Exception as E:\n",
        "   return E\n",
        "\n",
        "def calculator():\n",
        "   print(\"Simple Command Line Calculator\")\n",
        "   print(\"Use the mentioned operations +,-,*,/,**,sqrt,%\")\n",
        "   print(\"paranthesis can be used for grouping\")\n",
        "   print(\"Type 'Exit' to close calculator\")\n",
        "\n",
        "   while True:\n",
        "    exp = input(\"Enter any expression required:\").strip()\n",
        "    if exp.lower() == \"exit\":\n",
        "      print(\"Closing the Calculator:\")\n",
        "      break\n",
        "    result = eval_exp(exp)\n",
        "    print(result)\n",
        "\n",
        "\n",
        "calculator()\n",
        "\n",
        "\n"
      ],
      "metadata": {
        "id": "8nQnVxjJuYtu",
        "colab": {
          "base_uri": "https://localhost:8080/"
        },
        "outputId": "b1a6a874-637d-41e7-ecb8-8b400b1849ae"
      },
      "execution_count": 99,
      "outputs": [
        {
          "output_type": "stream",
          "name": "stdout",
          "text": [
            "Simple Command Line Calculator\n",
            "Use the mentioned operations +,-,*,/,**,sqrt,%\n",
            "paranthesis can be used for grouping\n",
            "Type 'Exit' to close calculator\n",
            "Enter any expression required:sqrt(124)\n",
            "11.135528725660043\n",
            "Enter any expression required:exit\n",
            "Closing the Calculator:\n"
          ]
        }
      ]
    },
    {
      "cell_type": "markdown",
      "metadata": {
        "id": "z3tBE7E-Xn5X"
      },
      "source": [
        "# Question 5 (30 points).\n",
        "\n",
        "In the field of Data Science, data is often formatted as a comma-delimited (CSV) file, where each line in a file corresponds to a field's value. Refer to Chapter 9 (p. 106) for more information on comma-delimited files.\n",
        "\n",
        "To answer this question, you will need to download the file [Assignment1_denton_housing.csv](https://raw.githubusercontent.com/unt-iialab/info5731-spring2022/main/assignments/Assignment1_denton_housing.csv) included with this assignment. The file contains statistics about housing in the city of Denton from 2008 to 2014. Write a program to implement the following questions.\n",
        "\n",
        "(a) (5 pts) Calculate the difference in the number of Occupied Housing Units from year to year and print it. The difference must be calculated for the consecutive years such as 2008-2009, 2009-2010 etc. Finally, print the values in the ascending order.\n",
        "\n",
        "(b) (5 pts) For all the years, calculate the percentage of housing units which are vacant an occupied. Print the results in the following format:\n",
        "\n",
        "Year Vacant Housing Units Occupied Housing Units\n",
        "\n",
        "    2008  30%   70%                          \n",
        "\t2009 ----- -----\n",
        "\t2010 ----- -----\n",
        "    2011 ----- -----\n",
        "\t2012 ----- -----\n",
        "    2013 ----- -----\n",
        "\t2014 ----- -----\n",
        "  \n",
        "  \n",
        "\n",
        "(c) (10 pts) Calculate and print the valued and years in which the highest number of housing units were vacant and occupied. Print the results in the following format:  \n",
        "\n",
        "                              Year\tValue\n",
        "\tVacant Housing Units\t  -----   -----\n",
        "\tOccupied Housing Units\t-----   -----\n",
        "\n",
        "(d) (10 pts) Calculate the harmonic mean of the total housing units and print it out. You can find the information about harmonic mean here: https://ncalculators.com/statistics/harmonic-mean-calculator.htm"
      ]
    },
    {
      "cell_type": "code",
      "source": [
        " from google.colab import drive\n",
        " drive.mount('/content/drive')\n",
        "\n",
        " import pandas as pd\n",
        " csv_path = \"/content/drive/MyDrive/Colab Notebooks/Assignment1_denton_housing.csv\"\n",
        " df = pd.read_csv(csv_path)\n",
        "\n",
        " # Filtering rows for occupied and vacant houses\n",
        " occupied_df = df[df['title_field'] == 'Occupied Housing Units']\n",
        " vacant_df = df[df['title_field'] == 'Vacant Housing Units']\n",
        "\n",
        "# Sorting data by year\n",
        " occupied_df = occupied_df.sort_values(by=\"year\")\n",
        " vacant_df = vacant_df.sort_values(by=\"year\")\n",
        "\n",
        " # a. Calculating difference in number of occupied house units from year to year\n",
        " occupied_df[\"Difference\"] = occupied_df['value'].diff()\n",
        " # Removing rows with NaN differences\n",
        " occupied_df = occupied_df.dropna()\n",
        " # Sorting the result in Ascending order\n",
        " sorted_order = occupied_df.sort_values(by='Difference')\n",
        " # Printing the differences result\n",
        " print(\"Differences in Units Occupied by year to year:\")\n",
        " for index, row in sorted_order.iterrows():\n",
        "  print(f\"{int (row['year'])-1}-{int(row['year'])}: {int(row['Difference'])}\")\n",
        "\n",
        "# b. Calculating the percentage of housing units which are vacant and occupied for all years\n",
        " total_df = pd.merge(occupied_df[['year', 'value']], vacant_df[['year', 'value']], on='year', suffixes=('_Occupied', '_Vacant'))\n",
        " total_df ['all_units'] = total_df ['value_Occupied'] + total_df ['value_Vacant']\n",
        " total_df ['Vacant_%'] = (total_df ['value_Vacant'] / total_df ['all_units']) * 100\n",
        " total_df ['Occupied_%'] = (total_df ['value_Occupied'] / total_df ['all_units']) * 100\n",
        "\n",
        "# Printing results\n",
        " print(\"% of housing units vacant and occupied for all years\")\n",
        " for index, row in total_df.iterrows():\n",
        "    print(f\"{int(row['year'])} {row['Vacant_%']}% {row['Occupied_%']}%\")\n",
        "\n",
        "# c. Calculating and printing the valued and years in which the highest number of housing units were vacant and occupied\n",
        " Vacant_high = vacant_df.loc[vacant_df['value'].idxmax()]\n",
        " Occupied_high = occupied_df.loc[occupied_df['value'].idxmax()]\n",
        "\n",
        " print(\"                               year   value\")\n",
        " print(f\"vacant housing units           {int(Vacant_high['year'])}   {Vacant_high['value']}\")\n",
        " print(f\"occupied housing units         {int(Occupied_high['year'])}   {Occupied_high['value']}\")\n",
        "\n",
        "# d. Calculating the harmonic mean\n",
        "\n",
        " x = len(total_df)\n",
        " har_mean = x/sum(1/ all_units for all_units in total_df['all_units'] )\n",
        " print(\"Harmonic mean of all housing units is:\", har_mean)\n",
        "\n",
        "\n",
        "\n",
        ""
      ],
      "metadata": {
        "colab": {
          "base_uri": "https://localhost:8080/"
        },
        "id": "1PspgBRFaKot",
        "outputId": "97ba7890-3adf-409a-c101-336f3f936f7e"
      },
      "execution_count": 75,
      "outputs": [
        {
          "output_type": "stream",
          "name": "stdout",
          "text": [
            "Drive already mounted at /content/drive; to attempt to forcibly remount, call drive.mount(\"/content/drive\", force_remount=True).\n",
            "Differences in Units Occupied by year to year:\n",
            "2008-2009: -795\n",
            "2010-2011: -303\n",
            "2011-2012: 1404\n",
            "2012-2013: 1565\n",
            "2013-2014: 2622\n",
            "2009-2010: 5091\n",
            "% of housing units vacant and occupied for all years\n",
            "2009 9.07111572444872% 90.92888427555128%\n",
            "2010 8.142556337081672% 91.85744366291833%\n",
            "2011 9.379522229890688% 90.6204777701093%\n",
            "2012 6.677600230491346% 93.32239976950866%\n",
            "2013 8.801787504176412% 91.19821249582358%\n",
            "2014 5.730110570363885% 94.26988942963611%\n",
            "                               year   value\n",
            "vacant housing units           2008   4483\n",
            "occupied housing units         2014   46295\n",
            "Harmonic mean of all housing units is: 44981.434095354496\n"
          ]
        }
      ]
    },
    {
      "cell_type": "markdown",
      "source": [
        "# Mandatory Question\n",
        "\n",
        "Provide your thoughts on the assignment. What did you find challenging, and what aspects did you enjoy? Your opinion on the provided time to complete the assignment. Share any suggestions for improvement. Your feedback will be valuable for enhancing the learning experience."
      ],
      "metadata": {
        "id": "q8BFCvWp32cf"
      }
    },
    {
      "cell_type": "code",
      "source": [
        "# Write your response below\n",
        "# The assignment was quite challenging especially the final question related to housing statistics\n",
        "# It made me do a brief reasearch on python concepts and was quite challenging\n",
        "# hope to see more such assignments\n"
      ],
      "metadata": {
        "id": "_e557s2w4BpK"
      },
      "execution_count": null,
      "outputs": []
    }
  ],
  "metadata": {
    "colab": {
      "provenance": [],
      "include_colab_link": true
    },
    "kernelspec": {
      "display_name": "Python 3 (ipykernel)",
      "language": "python",
      "name": "python3"
    },
    "language_info": {
      "codemirror_mode": {
        "name": "ipython",
        "version": 3
      },
      "file_extension": ".py",
      "mimetype": "text/x-python",
      "name": "python",
      "nbconvert_exporter": "python",
      "pygments_lexer": "ipython3",
      "version": "3.9.12"
    }
  },
  "nbformat": 4,
  "nbformat_minor": 0
}