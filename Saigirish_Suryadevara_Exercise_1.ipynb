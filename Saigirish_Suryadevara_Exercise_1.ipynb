{
  "cells": [
    {
      "cell_type": "markdown",
      "metadata": {
        "id": "view-in-github",
        "colab_type": "text"
      },
      "source": [
        "<a href=\"https://colab.research.google.com/github/Saigirish-Suryadevara/Saigirish_INFO5731_Fall2024/blob/main/Saigirish_Suryadevara_Exercise_1.ipynb\" target=\"_parent\"><img src=\"https://colab.research.google.com/assets/colab-badge.svg\" alt=\"Open In Colab\"/></a>"
      ]
    },
    {
      "cell_type": "markdown",
      "metadata": {
        "id": "DymRJbxDBCnf"
      },
      "source": [
        "# **INFO5731 Exercise 1**\n",
        "\n",
        "This exercise covers a variety of fundamental concepts in Python and is designed to help students improve their coding skills and problem-solving abilities.\n",
        "\n",
        "**Expectations**:\n",
        "*   Students are expected to complete the exercise during lecture period to meet the active participation criteria of the course.\n",
        "*   Use the provided .*ipynb* document to write your code & respond to the questions. Avoid generating a new file.\n",
        "*   Write complete answers and run all the cells before submission.\n",
        "*   Make sure the submission is \"clean\"; *i.e.*, no unnecessary code cells.\n",
        "*   Once finished, allow shared rights from top right corner (*see Canvas for details*).\n",
        "\n",
        "**Total points**: 40\n",
        "\n",
        "**Deadline**: This in-class exercise is due at the end of the day tomorrow, at 11:59 PM.\n",
        "\n",
        "**Late submissions cannot be considered, and no requests will be answered. Manage your time accordingly.**\n"
      ]
    },
    {
      "cell_type": "markdown",
      "source": [
        "## Question 1\n",
        "Write a Python program that  prompts the user to input the length and width of a rectangle, and then calculates and displays the area of the rectangle."
      ],
      "metadata": {
        "id": "FBKvD6O_TY6e"
      }
    },
    {
      "cell_type": "code",
      "source": [
        "# write your answer here\n",
        "# Taking length and width inputs from user\n",
        "Length = float(input(\"Length:\"))\n",
        "Width =  float(input(\"width:\"))\n",
        "# Calculating Area using multiplication\n",
        "\n",
        "Area = Length*Width\n",
        "\n",
        "# Printing the Output Area\n",
        "\n",
        "print(\"Area of Rectangle is:\" + str(Area))"
      ],
      "metadata": {
        "id": "cikVKDXdTbzE",
        "colab": {
          "base_uri": "https://localhost:8080/"
        },
        "outputId": "1580ea0d-8ae5-45d2-f5f5-67988602f7dc"
      },
      "execution_count": null,
      "outputs": [
        {
          "output_type": "stream",
          "name": "stdout",
          "text": [
            "Length:5\n",
            "width:7\n",
            "Area of Rectangle is:35.0\n"
          ]
        }
      ]
    },
    {
      "cell_type": "markdown",
      "source": [
        "## Question 2\n",
        "Create a Python program that interactively takes two numerical inputs from the user and swaps their values without utilizing an extra variable."
      ],
      "metadata": {
        "id": "E9RqrlwdTfvl"
      }
    },
    {
      "cell_type": "code",
      "source": [
        "# write your answer here\n",
        "# Taking 2 numerical inputs A and B\n",
        "A = int(input(\"Enter A value:\"))\n",
        "B = int(input(\"Enter B value:\"))\n",
        "# values before Swap\n",
        "print(\"Values of A and B before Swapping:\",A,\"&\",B)\n",
        "# Swapping Values\n",
        "A,B = B,A\n",
        "# Values after Swap\n",
        "\n",
        "print(\"Values of A and B After Swapping:\",A,\"&\",B)\n",
        "\n"
      ],
      "metadata": {
        "id": "4XvRknixTh1g",
        "colab": {
          "base_uri": "https://localhost:8080/"
        },
        "outputId": "e79d2078-b150-4e58-c32f-8ee33233060c"
      },
      "execution_count": null,
      "outputs": [
        {
          "output_type": "stream",
          "name": "stdout",
          "text": [
            "Enter A value:4\n",
            "Enter B value:9\n",
            "Values of A and B before Swapping: 4 & 9\n",
            "Values of A and B After Swapping: 9 & 4\n"
          ]
        }
      ]
    },
    {
      "cell_type": "markdown",
      "metadata": {
        "id": "03jb4GZsBkBS"
      },
      "source": [
        "## Question 3\n",
        "Write a Python script to determine and print the length of a user-input string."
      ]
    },
    {
      "cell_type": "code",
      "execution_count": null,
      "metadata": {
        "id": "YaGLbSHHB8Ej",
        "colab": {
          "base_uri": "https://localhost:8080/"
        },
        "outputId": "5c93b576-c3f8-49b3-e689-ebe6005ddcd1"
      },
      "outputs": [
        {
          "output_type": "stream",
          "name": "stdout",
          "text": [
            "Enter any word:luffy\n",
            "Lenght of the string: 5\n"
          ]
        }
      ],
      "source": [
        "# write your answer here\n",
        "# Taking string input from user\n",
        "string = str(input(\"Enter any word:\"))\n",
        "# Calculating length of string\n",
        "\n",
        "String_Lenght = len(string)\n",
        "\n",
        "print(\"Lenght of the string:\", String_Lenght)\n"
      ]
    },
    {
      "cell_type": "markdown",
      "metadata": {
        "id": "jJDe71iLB616"
      },
      "source": [
        "## Question 4\n",
        "Construct a Python program that counts and displays the occurrences of each character in a given string.\n",
        "\n",
        "Sample String: 'openai.ai',\n",
        "\n",
        "Expected Result: {'a': 2, 'i': 2, '.': 1, 'o': 1, 'p': 1, 'e': 1, 'n': 1}"
      ]
    },
    {
      "cell_type": "code",
      "execution_count": null,
      "metadata": {
        "id": "MtKskTzbCLaU",
        "colab": {
          "base_uri": "https://localhost:8080/"
        },
        "outputId": "a7009545-3474-4ab2-c590-bd8b89f5528d"
      },
      "outputs": [
        {
          "output_type": "stream",
          "name": "stdout",
          "text": [
            "Enter a random string:Monkey D. Luffy\n",
            "{'f': 2, ' ': 2, 'o': 1, 'u': 1, 'n': 1, 'e': 1, 'M': 1, '.': 1, 'L': 1, 'y': 2, 'D': 1, 'k': 1}\n"
          ]
        }
      ],
      "source": [
        "# write your answer here\n",
        "# Taking string input\n",
        "\n",
        "String = str(input(\"Enter a random string:\"))\n",
        "\n",
        "# Counting occurences of each character\n",
        "\n",
        "occurence = {a : String.count(a) for a in set(String)}\n",
        "\n",
        "print(occurence)\n"
      ]
    },
    {
      "cell_type": "markdown",
      "metadata": {
        "id": "55W9AMdXCSpV"
      },
      "source": [
        "## Question 5\n",
        "Design a Python code to calculate the sum of all elements in a user-provided list."
      ]
    },
    {
      "cell_type": "code",
      "execution_count": null,
      "metadata": {
        "id": "I57NXsauCec2",
        "colab": {
          "base_uri": "https://localhost:8080/"
        },
        "outputId": "80d46b7c-dea9-40e4-ac9c-7e71d50c7cc1"
      },
      "outputs": [
        {
          "output_type": "stream",
          "name": "stdout",
          "text": [
            "Enter list of number seprated by space:5 7 9 1 8\n",
            "sum of all elements is: 30\n"
          ]
        }
      ],
      "source": [
        "# write your answer here\n",
        "# Taking input list from users as string\n",
        "num = (input(\"Enter list of number seprated by space:\"))\n",
        "\n",
        "# converting string input to integer\n",
        "\n",
        "num_list = (int(x) for x in num.split())\n",
        "\n",
        "# adding all numbers in list\n",
        "\n",
        "total = sum(num_list)\n",
        "\n",
        "print('sum of all elements is:', total)\n",
        "\n",
        "\n",
        "\n",
        "\n"
      ]
    },
    {
      "cell_type": "markdown",
      "metadata": {
        "id": "4ulBZ6yhCi9F"
      },
      "source": [
        "## Question 6\n",
        "Write a Python program that modifies a given string by replacing all occurrences of its first character with '$', excluding the first character itself.\n",
        "\n",
        "\n",
        "Sample String : 'restart‘\n",
        "Expected Result : 'resta\\$t'"
      ]
    },
    {
      "cell_type": "code",
      "execution_count": null,
      "metadata": {
        "id": "Fj0XhwbBCw2o",
        "colab": {
          "base_uri": "https://localhost:8080/"
        },
        "outputId": "54304b4a-0bc6-4479-cda1-acc53410681b"
      },
      "outputs": [
        {
          "output_type": "stream",
          "name": "stdout",
          "text": [
            "Enter a random string:fluffy\n",
            "flu$$y\n"
          ]
        }
      ],
      "source": [
        "# write your answer here\n",
        "# Taking string input\n",
        "\n",
        "String = str(input(\"Enter a random string:\"))\n",
        "# get first character of string\n",
        "firstchar = String[0]\n",
        "# replace first character occurence with $\n",
        "modified_str = firstchar + String[1:].replace(firstchar, '$')\n",
        "\n",
        "print(modified_str)\n",
        "\n",
        "\n",
        "\n",
        "\n",
        "\n"
      ]
    },
    {
      "cell_type": "markdown",
      "source": [
        "## Question 7\n",
        "Write a Python program using a while loop to compute the factorial of a user-supplied number."
      ],
      "metadata": {
        "id": "qVXA3q7ET5JI"
      }
    },
    {
      "cell_type": "code",
      "source": [
        "# write your answer here\n",
        "# Taking input number from user\n",
        "\n",
        "num = int(input(\"Enter a number:\"))\n",
        "\n",
        "if num<0:\n",
        "\n",
        " print(\"Enter a valid positive number\")\n",
        "\n",
        "else:\n",
        "\n",
        "  factorial = 1\n",
        "\n",
        "  x = 1\n",
        "  while x<= num:\n",
        "    factorial *= x\n",
        "    x +=1\n",
        "\n",
        "  # printing factorial output of number\n",
        "  print(\"The factorial of given number is\", factorial)\n",
        "\n"
      ],
      "metadata": {
        "id": "Lbt7R6UkT7BA",
        "colab": {
          "base_uri": "https://localhost:8080/"
        },
        "outputId": "8c98d89b-f6ff-4992-9621-a3d59e541241"
      },
      "execution_count": null,
      "outputs": [
        {
          "output_type": "stream",
          "name": "stdout",
          "text": [
            "Enter a number:6\n",
            "The factorial of given number is 720\n"
          ]
        }
      ]
    },
    {
      "cell_type": "markdown",
      "source": [
        "## Question 8\n",
        "Create a program that accepts a list of numbers as input and outputs a new list containing only the even numbers."
      ],
      "metadata": {
        "id": "6YfbzXMNT--R"
      }
    },
    {
      "cell_type": "code",
      "source": [
        "# write your answer here\n",
        "# Taking input list from users as string\n",
        "num = (input(\"Enter list of number seprated by space:\"))\n",
        "\n",
        "# converting string input to integer\n",
        "\n",
        "num_list = [int(num) for num in num.split()]\n",
        "\n",
        "# Create a new list to store even numbers using a list comprehension\n",
        "even_numbers = [num for num in num_list if num % 2 == 0]\n",
        "\n",
        "# Display the list of even numbers\n",
        "print(even_numbers)\n",
        "\n"
      ],
      "metadata": {
        "id": "54q7wMQPUAKu",
        "colab": {
          "base_uri": "https://localhost:8080/"
        },
        "outputId": "f052c801-1c9e-453f-df38-132340b24c01"
      },
      "execution_count": null,
      "outputs": [
        {
          "output_type": "stream",
          "name": "stdout",
          "text": [
            "Enter list of number seprated by space:2 6 9 7 5 4\n",
            "[2, 6, 4]\n"
          ]
        }
      ]
    },
    {
      "cell_type": "markdown",
      "metadata": {
        "id": "_bIP7s1MCzue"
      },
      "source": [
        "## Question 9\n",
        "Design a Python function to check if a number is prime.\n"
      ]
    },
    {
      "cell_type": "code",
      "execution_count": null,
      "metadata": {
        "id": "w79QilHXD3Mg",
        "colab": {
          "base_uri": "https://localhost:8080/"
        },
        "outputId": "c96e88fb-9a86-46fa-9ad0-eaac107189ce"
      },
      "outputs": [
        {
          "output_type": "stream",
          "name": "stdout",
          "text": [
            "Enter a number:6\n",
            "Entered number is not a prime number\n"
          ]
        }
      ],
      "source": [
        "# write your answer here\n",
        "# Taking input number from user\n",
        "\n",
        "num = int(input(\"Enter a number:\"))\n",
        "\n",
        "if num > 1:\n",
        "\n",
        "\n",
        "    for i in range(2, (num//2)+1):\n",
        "\n",
        "        if (num % i) == 0:\n",
        "            print(\"Entered number is not a prime number\")\n",
        "            break\n",
        "    else:\n",
        "        print(\"Entered number is a prime number\")\n",
        "else:\n",
        "    print(\"Entered number is not a prime number\")\n",
        "\n",
        "\n",
        "\n",
        "\n"
      ]
    },
    {
      "cell_type": "markdown",
      "metadata": {
        "id": "xCa2bK9aD4Q3"
      },
      "source": [
        "## Question 10\n",
        "Write a Python program to concatenate following dictionaries to create a new one.\n",
        "\n",
        "Sample Dictionary : dic1={1:10, 2:20}, dic2={3:30, 4:40}, dic3={5:50,6:60},\n",
        "\n",
        "Expected Result : {1: 10, 2: 20, 3: 30, 4: 40, 5: 50, 6: 60}\n"
      ]
    },
    {
      "cell_type": "code",
      "execution_count": null,
      "metadata": {
        "id": "_z4aLqAbEET1",
        "colab": {
          "base_uri": "https://localhost:8080/"
        },
        "outputId": "6fc80bef-1f19-4875-ba80-e5b86622a485"
      },
      "outputs": [
        {
          "output_type": "stream",
          "name": "stdout",
          "text": [
            "The concatenated dictionary is: {1: 10, 2: 20, 3: 30, 4: 40, 5: 50, 6: 60}\n"
          ]
        }
      ],
      "source": [
        "# write your answer here\n",
        "\n",
        "dic1 = {1: 10, 2: 20}\n",
        "dic2 = {3: 30, 4: 40}\n",
        "dic3 = {5: 50, 6: 60}\n",
        "\n",
        "combined_dict = {}\n",
        "\n",
        "combined_dict.update(dic1)\n",
        "combined_dict.update(dic2)\n",
        "combined_dict.update(dic3)\n",
        "\n",
        "print(\"The concatenated dictionary is:\", combined_dict)\n"
      ]
    },
    {
      "cell_type": "markdown",
      "source": [
        "## Question 11\n",
        "Design a Python function that takes a tuple of integers as input and returns the largest and smallest elements."
      ],
      "metadata": {
        "id": "bkyZ2xSZUOst"
      }
    },
    {
      "cell_type": "code",
      "source": [
        "# write your answer here\n",
        "# Taking input tuple\n",
        "t = tuple([int(e) for e in input(\"Enter number separated by Space:\").split(' ')])\n",
        "print(\"Largest number in the tuple is:\", max(t))\n",
        "print(\"Smallest number in the tuple is:\", min(t))"
      ],
      "metadata": {
        "id": "3FdLRBKOUQEd",
        "colab": {
          "base_uri": "https://localhost:8080/"
        },
        "outputId": "179c225b-8230-4ee0-8fa8-22e5c9b4909f"
      },
      "execution_count": 8,
      "outputs": [
        {
          "output_type": "stream",
          "name": "stdout",
          "text": [
            "Enter number separated by Space:2 5 11 60 79\n",
            "Largest number in the tuple is: 79\n",
            "Smallest number in the tuple is: 2\n"
          ]
        }
      ]
    },
    {
      "cell_type": "markdown",
      "source": [
        "## Question 12\n",
        "Write a Python program that counts the frequency of each character in a given string and stores it in a dictionary."
      ],
      "metadata": {
        "id": "O0TVi3gKUTpp"
      }
    },
    {
      "cell_type": "code",
      "source": [
        "# write your answer here\n",
        "# Taking input string\n",
        "\n",
        "String = str(input(\"Enter random string:\"))\n",
        "\n",
        "frequency = {}\n",
        "\n",
        "for char in String:\n",
        "  if char in frequency:\n",
        "    frequency[char] +=1\n",
        "  else:\n",
        "    frequency[char] = 1\n",
        "\n",
        "print(frequency)"
      ],
      "metadata": {
        "id": "lAtfSfZXUU-h",
        "colab": {
          "base_uri": "https://localhost:8080/"
        },
        "outputId": "8516ee7b-0e43-4c35-fb70-1e09ace178a8"
      },
      "execution_count": 10,
      "outputs": [
        {
          "output_type": "stream",
          "name": "stdout",
          "text": [
            "Enter random string:Doflamingo\n",
            "{'D': 1, 'o': 2, 'f': 1, 'l': 1, 'a': 1, 'm': 1, 'i': 1, 'n': 1, 'g': 1}\n"
          ]
        }
      ]
    },
    {
      "cell_type": "markdown",
      "metadata": {
        "id": "0v48Vqa7FrQh"
      },
      "source": [
        "## Question 13\n",
        "Implement a Python script to identify duplicate elements in a provided array of integers. Return -1 if there are no duplicates."
      ]
    },
    {
      "cell_type": "code",
      "execution_count": 13,
      "metadata": {
        "id": "7WEmgq-DF2P1",
        "colab": {
          "base_uri": "https://localhost:8080/"
        },
        "outputId": "b73ec23c-405a-40a4-daa4-054f4dcf30dd"
      },
      "outputs": [
        {
          "output_type": "stream",
          "name": "stdout",
          "text": [
            "Enter a list of integers separated by spaces: 99 10 11 33 4 5 33 7 8 99 10\n",
            "The Duplicate integers are: [33, 99, 10]\n"
          ]
        }
      ],
      "source": [
        "# write your answer here\n",
        "input_str = input(\"Enter a list of integers separated by spaces: \")\n",
        "lis = [int(x) for x in input_str.split()]\n",
        "\n",
        "unq_lis = []\n",
        "dup_lis = []\n",
        "\n",
        "for i in lis:\n",
        "    if i not in unq_lis:\n",
        "        unq_lis.append(i)\n",
        "    elif i not in dup_lis:\n",
        "        dup_lis.append(i)\n",
        "\n",
        "if dup_lis:\n",
        "    print(\"The Duplicate integers are:\",dup_lis)\n",
        "else:\n",
        "    print(-1)\n"
      ]
    },
    {
      "cell_type": "markdown",
      "metadata": {
        "id": "vD5PYLMuGga_"
      },
      "source": [
        "## Question 14\n",
        "Write a Python script to find the common elements between two lists."
      ]
    },
    {
      "cell_type": "code",
      "execution_count": 15,
      "metadata": {
        "id": "t0D5kdJUGjjw",
        "colab": {
          "base_uri": "https://localhost:8080/"
        },
        "outputId": "df4996f1-6066-4e34-cca3-c5249d5f6033"
      },
      "outputs": [
        {
          "output_type": "stream",
          "name": "stdout",
          "text": [
            "Enter a list of words separated by spaces: luffy itachi naruto sasuke zoro\n",
            "Enter a list of words separated by spaces: luffy zoro sanji lee kakashi\n",
            "The common element between the lists are: ['luffy', 'zoro']\n"
          ]
        }
      ],
      "source": [
        "# write your answer here\n",
        "input_str1 = input(\"Enter a list of words separated by spaces: \")\n",
        "lis1 = input_str1.split()\n",
        "input_str2 = input(\"Enter a list of words separated by spaces: \")\n",
        "lis2 = input_str2.split()\n",
        "Common_elmnts = list(set(lis1).intersection(lis2))\n",
        "print(\"The common element between the lists are:\", Common_elmnts)\n"
      ]
    },
    {
      "cell_type": "markdown",
      "metadata": {
        "id": "uHkd-y5VhVWC"
      },
      "source": [
        "## Question 15\n",
        "Write a Python program to randomly divide the students in this class into maximum of eight groups for term projects, each group should have at least 4 students but no more than 6 students (including 6).\n",
        "\n",
        "Here is the students list:\n",
        "\n",
        "student_list_spring_2024=[rb0846,\n",
        "ac1964,\n",
        "hc0612,\n",
        "md0912,\n",
        "ad1198,\n",
        "md0894,\n",
        "md0825,\n",
        "vg0598,\n",
        "vg0433,\n",
        "mh1068,\n",
        "yj0173,\n",
        "pk0553,\n",
        "tk0411,\n",
        "srk0204,\n",
        "sk2922,\n",
        "sk2936,\n",
        "mk1302,\n",
        "mk1317,\n",
        "tk0412,\n",
        "vk0656,\n",
        "sm2985,\n",
        "mm2372,\n",
        "un0045,\n",
        "an0892,\n",
        "sn0913,\n",
        "gp0252,\n",
        "ap1484,\n",
        "mr1765,\n",
        "sr1385,\n",
        "sr1335,\n",
        "hs0665,\n",
        "ms2060,\n",
        "gt0217,\n",
        "nt0385,\n",
        "tv0186,\n",
        "sv1394,\n",
        "sv1752,\n",
        "sv1555,\n",
        "sy0594\n",
        "]\n"
      ]
    },
    {
      "cell_type": "code",
      "execution_count": 19,
      "metadata": {
        "id": "3iGbmcOBhTwy",
        "colab": {
          "base_uri": "https://localhost:8080/"
        },
        "outputId": "237b15c4-faba-4f27-f5c4-3e0e3d8466ae"
      },
      "outputs": [
        {
          "output_type": "stream",
          "name": "stdout",
          "text": [
            "Group 1: ['rb0846', 'ac1964', 'hc0612', 'md0912']\n",
            "Group 2: ['ad1198', 'md0894', 'md0825', 'vg0598']\n",
            "Group 3: ['vg0433', 'mh1068', 'yj0173', 'pk0553']\n",
            "Group 4: ['tk0411', 'srk0204', 'sk2922', 'sk2936']\n",
            "Group 5: ['mk1302', 'mk1317', 'tk0412', 'vk0656']\n",
            "Group 6: ['sm2985', 'mm2372', 'un0045', 'an0892']\n",
            "Group 7: ['sn0913', 'gp0252', 'ap1484', 'mr1765']\n",
            "Group 8: ['sr1385', 'sr1335', 'hs0665', 'ms2060']\n",
            "Group 9: ['gt0217', 'nt0385', 'tv0186', 'sv1394']\n",
            "Group 10: ['sv1752', 'sv1555', 'sy0594']\n"
          ]
        }
      ],
      "source": [
        "# write your answer here\n",
        "\n",
        "student_list_spring_2024 = [\n",
        "    'rb0846', 'ac1964', 'hc0612', 'md0912', 'ad1198', 'md0894', 'md0825', 'vg0598', 'vg0433',\n",
        "    'mh1068', 'yj0173', 'pk0553', 'tk0411', 'srk0204', 'sk2922', 'sk2936', 'mk1302', 'mk1317',\n",
        "    'tk0412', 'vk0656', 'sm2985', 'mm2372', 'un0045', 'an0892', 'sn0913', 'gp0252', 'ap1484',\n",
        "    'mr1765', 'sr1385', 'sr1335', 'hs0665', 'ms2060', 'gt0217', 'nt0385', 'tv0186', 'sv1394',\n",
        "    'sv1752', 'sv1555', 'sy0594'\n",
        "]\n",
        "\n",
        "\n",
        "for i in range(len(student_list_spring_2024)):\n",
        "    j = i + (len(student_list_spring_2024) - i) * (len(student_list_spring_2024) - i) // (len(student_list_spring_2024) - i)\n",
        "    if j < len(student_list_spring_2024):\n",
        "        student_list_spring_2024[i], student_list_spring_2024[j] = student_list_spring_2024[j], student_list_spring_2024[i]\n",
        "\n",
        "\n",
        "least_groupsize = 4\n",
        "most_groupsize = 6\n",
        "groups = []\n",
        "current_group = []\n",
        "\n",
        "for student in student_list_spring_2024:\n",
        "    current_group.append(student)\n",
        "\n",
        "    if len(current_group) == least_groupsize:\n",
        "        groups.append(current_group)\n",
        "        current_group = []\n",
        "\n",
        "if current_group:\n",
        "    if len(groups) > 0 and len(current_group) + len(groups[-1]) <= most_groupsize:\n",
        "        groups[-1].extend(current_group)\n",
        "    else:\n",
        "        groups.append(current_group)\n",
        "\n",
        "\n",
        "i = 0\n",
        "while i < len(groups):\n",
        "    if len(groups[i]) < least_groupsize:\n",
        "        if i + 1 < len(groups):\n",
        "            # Move a student from the next group to the current group\n",
        "            groups[i].append(groups[i + 1].pop(0))\n",
        "        else:\n",
        "            break\n",
        "    else:\n",
        "        i += 1\n",
        "\n",
        "# Print the groups\n",
        "for i, group in enumerate(groups):\n",
        "    print(f\"Group {i + 1}: {group}\")\n",
        "\n"
      ]
    },
    {
      "cell_type": "markdown",
      "metadata": {
        "id": "fmZ9vX20Qs3d"
      },
      "source": [
        "## Question 16\n",
        "Create a program that takes a positive integer 'n' as input and prints the count of even numbers from 1 to 'n'. Optimize the loop using the continue statement."
      ]
    },
    {
      "cell_type": "code",
      "execution_count": 25,
      "metadata": {
        "id": "W8Jw6sWMQs3d",
        "colab": {
          "base_uri": "https://localhost:8080/"
        },
        "outputId": "e7e54484-63d3-4569-ed05-d1ce5b648d34"
      },
      "outputs": [
        {
          "output_type": "stream",
          "name": "stdout",
          "text": [
            "Enter a positive number: 77\n",
            "Count of even numbers from 1 to 77: 38\n"
          ]
        }
      ],
      "source": [
        "# write your answer here\n",
        "n = int(input(\"Enter a positive number: \"))\n",
        "\n",
        "if n < 2:\n",
        "    even_count = 0\n",
        "else:\n",
        "    even_count = n // 2\n",
        "\n",
        "print(\"Count of even numbers from 1 to \" + str(n) + \": \" + str(even_count))"
      ]
    },
    {
      "cell_type": "markdown",
      "metadata": {
        "id": "hvq4APMhQs3d"
      },
      "source": [
        "## Question 17\n",
        "Develop a Python function called 'count_vowels' that takes a string as input and returns the count of vowels (both lowercase and uppercase) present in the string, ignoring spaces and non-alphabetic characters."
      ]
    },
    {
      "cell_type": "code",
      "execution_count": 27,
      "metadata": {
        "id": "ZnoxhSglQs3d",
        "colab": {
          "base_uri": "https://localhost:8080/"
        },
        "outputId": "9c2409ba-a95f-44d9-caca-7a2c8e8c8025"
      },
      "outputs": [
        {
          "output_type": "stream",
          "name": "stdout",
          "text": [
            "Enter a string: monkey luffy\n",
            "Number of vowels: 3\n"
          ]
        }
      ],
      "source": [
        "# write your answer here\n",
        "def count_vowels(s):\n",
        "\n",
        "    vowel = set('aeiouAEIOU')\n",
        "\n",
        "    vowel_count = sum(1 for char in s if char in vowel)\n",
        "\n",
        "    return vowel_count\n",
        "\n",
        "string = input(\"Enter a string: \")\n",
        "print(\"Number of vowels:\", count_vowels(string))\n"
      ]
    },
    {
      "cell_type": "markdown",
      "source": [
        "## Question 18\n",
        "Create a custom exception named ValueTooSmallError in Python. Write a program that takes user input for an age, and if the entered age is less than 18, raise the ValueTooSmallError with an appropriate error message."
      ],
      "metadata": {
        "id": "55FWoSJPVVM6"
      }
    },
    {
      "cell_type": "code",
      "source": [
        "# write your answer here\n",
        "# Taking input from user\n",
        "n = int(input(\"Enter a positive integer: \"))\n",
        "\n",
        "if n < 2:\n",
        "    even_count = 0\n",
        "else:\n",
        "    even_count = n // 2\n",
        "\n",
        "print(\"Count of even numbers from 1 to \" + str(n) + \": \" + str(even_count))"
      ],
      "metadata": {
        "id": "hwtr1wZmVX5A",
        "colab": {
          "base_uri": "https://localhost:8080/"
        },
        "outputId": "d65a531f-21c2-436f-8e53-8a50a6e093cb"
      },
      "execution_count": 22,
      "outputs": [
        {
          "output_type": "stream",
          "name": "stdout",
          "text": [
            "Enter a positive integer: 33\n",
            "Count of even numbers from 1 to 33: 16\n"
          ]
        }
      ]
    },
    {
      "cell_type": "markdown",
      "source": [
        "## Question 19\n",
        "Develop a script that reverses a given string without using built-in reverse functions."
      ],
      "metadata": {
        "id": "Q9ecagcaVazW"
      }
    },
    {
      "cell_type": "code",
      "source": [
        "# write your answer here\n",
        "string = input(\"Enter a random string:\")\n",
        "reverse_str=\"\"\n",
        "for char in string:\n",
        "    reverse_str = char + reverse_str\n",
        "\n",
        "print(\"The reversed string  is : \", end=\"\")\n",
        "print(reverse_str)\n"
      ],
      "metadata": {
        "id": "gycgckoAVZjR",
        "colab": {
          "base_uri": "https://localhost:8080/"
        },
        "outputId": "cae5bc0e-90b6-4a9a-bf41-d92eb23d39a7"
      },
      "execution_count": 23,
      "outputs": [
        {
          "output_type": "stream",
          "name": "stdout",
          "text": [
            "Enter a random string:naruto\n",
            "The reversed string  is : oturan\n"
          ]
        }
      ]
    },
    {
      "cell_type": "markdown",
      "source": [
        "## Question 20\n",
        "Implement a Python script to generate a random password of a specified length."
      ],
      "metadata": {
        "id": "ZFG6RibifMLu"
      }
    },
    {
      "cell_type": "code",
      "source": [
        "# write your answer here\n",
        "\n",
        "import random\n",
        "import string\n",
        "\n",
        "\n",
        "length = int(input(\"Enter the length for the password needed: \"))\n",
        "\n",
        "uppercase_char = 'ABCDEFGHIJKLMNOPQRSTUVWXYZ'\n",
        "lowercase_char = 'abcdefghijklmnopqrstuvwxyz'\n",
        "dig = '0123456789'\n",
        "punct = '!@#$%^&*()-_=+[]{}|;:,.<>?/~`'\n",
        "\n",
        "characters = uppercase_char + lowercase_char + dig + punct\n",
        "\n",
        "password = ''.join(random.choice(characters) for _ in range(length))\n",
        "\n",
        "print(\"Password generated is: \" + password)\n"
      ],
      "metadata": {
        "id": "BFVrkEi9fNiD",
        "colab": {
          "base_uri": "https://localhost:8080/"
        },
        "outputId": "5b1a0059-dd45-46cc-97c3-f6201b61a889"
      },
      "execution_count": 24,
      "outputs": [
        {
          "output_type": "stream",
          "name": "stdout",
          "text": [
            "Enter the length for the password needed: 7\n",
            "Password generated is: Z%}dbSt\n"
          ]
        }
      ]
    },
    {
      "cell_type": "markdown",
      "source": [
        "# Try these questions"
      ],
      "metadata": {
        "id": "6SmvS7nSfbj8"
      }
    },
    {
      "cell_type": "markdown",
      "source": [
        "(21) Define a base class called 'Vehicle' with attributes make and model. Create a derived class Car that inherits from Vehicle and has an additional attribute 'num_doors'. Demonstrate an example of creating an instance of the 'Car' class and accessing its attributes."
      ],
      "metadata": {
        "id": "cboAr5pEWUf5"
      }
    },
    {
      "cell_type": "code",
      "source": [
        "# write your answer here\n"
      ],
      "metadata": {
        "id": "phs9gciMWWAW"
      },
      "execution_count": null,
      "outputs": []
    },
    {
      "cell_type": "markdown",
      "source": [
        "(22) Create a class called 'Shape' with a method calculate_area(). Implement two derived classes 'Circle' and 'Rectangle' that inherit from Shape and override the calculate_area() method. Demonstrate polymorphism by creating instances of both derived classes and calling the calculate_area() method."
      ],
      "metadata": {
        "id": "J8HHefNtePwd"
      }
    },
    {
      "cell_type": "code",
      "source": [
        "# write your answer here"
      ],
      "metadata": {
        "id": "btnMmUZDeRhS"
      },
      "execution_count": null,
      "outputs": []
    },
    {
      "cell_type": "markdown",
      "source": [
        "(23) Write a Python program that prompts the user to enter two numbers and perform a division operation. Handle exceptions for both zero division and invalid input (non-numeric input). Display appropriate error messages for each type of exception and ensure the program does not crash due to these errors."
      ],
      "metadata": {
        "id": "z0oqEAlTeMUS"
      }
    },
    {
      "cell_type": "code",
      "source": [
        "# write your answer here\n",
        "try:\n",
        "    x = float(input(\"Enter first number: \"))\n",
        "    y = float(input(\"Enter second number: \"))\n",
        "\n",
        "    division = x / y\n",
        "\n",
        "except ZeroDivisionError as e:\n",
        "    print(\"Error:\",e,\"Division by zero is not possible. Please enter a non-zero second number.\")\n",
        "except ValueError as e:\n",
        "    print(\"Error:\",e,\"input is not valid. Please enter valid numeric value.\")\n",
        "else:\n",
        "    print(\"The result of\",x,\"divided by\",y,\"is:\",division)"
      ],
      "metadata": {
        "id": "yjdc1zM1eMAs",
        "colab": {
          "base_uri": "https://localhost:8080/"
        },
        "outputId": "9489fe7a-95db-4890-ca6a-e40104e936a4"
      },
      "execution_count": 28,
      "outputs": [
        {
          "output_type": "stream",
          "name": "stdout",
          "text": [
            "Enter first number: 6\n",
            "Enter second number: 0\n",
            "Error: float division by zero Division by zero is not possible. Please enter a non-zero second number.\n"
          ]
        }
      ]
    },
    {
      "cell_type": "markdown",
      "source": [
        "# Mandatory Question"
      ],
      "metadata": {
        "id": "sZOhks1dXWEe"
      }
    },
    {
      "cell_type": "markdown",
      "source": [
        "**Important:**\n",
        "Reflecting on the first three lectures and the exercises you've completed, please provide feedback on your learning experience. Share your thoughts on whether the material covered was clear, the exercises were helpful, and if you feel more confident in applying Python programming concepts. Additionally, mention any specific areas where you would like more clarification or topics you would like to explore further in future lectures. Your feedback is valuable in shaping the course for an effective learning journey."
      ],
      "metadata": {
        "id": "eqmHVEwaWhbV"
      }
    },
    {
      "cell_type": "code",
      "source": [
        "'''\n",
        "The materials covered in the 2 weeks of class were clear and easy to understand. These excersies helped me to build up a little confident in my python skills and concepts.\n",
        "'''"
      ],
      "metadata": {
        "id": "akAVJn9YBTQT"
      },
      "execution_count": null,
      "outputs": []
    }
  ],
  "metadata": {
    "colab": {
      "provenance": [],
      "include_colab_link": true
    },
    "kernelspec": {
      "display_name": "Python 3 (ipykernel)",
      "language": "python",
      "name": "python3"
    },
    "language_info": {
      "codemirror_mode": {
        "name": "ipython",
        "version": 3
      },
      "file_extension": ".py",
      "mimetype": "text/x-python",
      "name": "python",
      "nbconvert_exporter": "python",
      "pygments_lexer": "ipython3",
      "version": "3.9.12"
    }
  },
  "nbformat": 4,
  "nbformat_minor": 0
}